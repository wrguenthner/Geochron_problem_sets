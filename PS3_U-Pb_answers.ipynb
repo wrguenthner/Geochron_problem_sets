{
 "cells": [
  {
   "cell_type": "markdown",
   "metadata": {},
   "source": [
    "# Problem Set 3, U-Pb ages, Concordia diagrams, and Pb-Pb plots\n",
    "\n",
    "## Objectives: 1) understand how to construct U-Pb concordia diagrams; 2) practice with iterative solving algorithms; and 3) use Stacey-Kramer Pb-Pb plots to understand data\n",
    "\n",
    "\n",
    "Let's get our useful libraries imported:"
   ]
  },
  {
   "cell_type": "code",
   "execution_count": null,
   "metadata": {},
   "outputs": [],
   "source": [
    "import numpy as np\n",
    "import matplotlib.pyplot as plt\n",
    "import pandas as pd\n",
    "import math\n",
    "%matplotlib inline"
   ]
  },
  {
   "cell_type": "markdown",
   "metadata": {},
   "source": [
    "Introduce some constants that we'll need throughout this notebook:"
   ]
  },
  {
   "cell_type": "code",
   "execution_count": null,
   "metadata": {},
   "outputs": [],
   "source": [
    "U_atomic_mass = 238.02891 #g/mol\n",
    "Th_atomic_mass = 232.0381 #g/mol\n",
    "\n",
    "U_ratio = 1/137.88 #235U/238U\n",
    "U_ratio_zircon = 1/137.818 #235U/238U\n",
    "\n",
    "Pb206_atomic_mass = 205.97446 #g/mol\n",
    "Pb207_atomic_mass = 206.97589 #g/mol\n",
    "Pb208_atomic_mass = 207.97604 #g/mol\n",
    "\n",
    "lambda_238 = 1.55125e-10 #1/yr\n",
    "lambda_235 = 9.8485e-10 #1/yr\n",
    "lambda_232 = 4.49475e-11 #1/yr"
   ]
  },
  {
   "cell_type": "markdown",
   "metadata": {},
   "source": [
    "## Problem 1\n",
    "\n",
    "### Most human-made nuclear reactors require ~3 % $^{235}$U enrichment (for this problem assume that 3.0 % is the exact cut-off between critical and non-critical). Calculate the last time in geologic history that natural nuclear reactors were possible.\n",
    "\n",
    "To solve this problem, we can use the more basic form of the decay equation (but rearranged because we're actually solving for N$_0$):\n",
    "\n",
    "$N_0 = N * e^{\\lambda t}$\n",
    "\n",
    "We'll also need to consider this equation in terms of the ratio between $^{235}$U and $^{238}$U. Solve the equation by hand first and then enter it below."
   ]
  },
  {
   "cell_type": "code",
   "execution_count": null,
   "metadata": {
    "scrolled": true
   },
   "outputs": [],
   "source": [
    "critical_time = np.log(0.03/U_ratio)/(lambda_235-lambda_238)\n",
    "critical_time = critical_time/1000000\n",
    "\n",
    "print(round(critical_time), ' Ma')"
   ]
  },
  {
   "cell_type": "markdown",
   "metadata": {},
   "source": [
    "## Problem 2\n",
    "\n",
    "### Wilde et al. (2001) report the following data from their SHRIMP analyses of zircons from Jack Hills, Australia. Each row is a different ~30 μm spot in a collection of several zircons. In these samples, it is ok to assume that the common Pb, and $^{204}$Pb is negligible. Answer each part of this question below.\n",
    "\n",
    "|U (ppm)|Th (ppm)|Pb (ppm)|$^{207}$Pb/$^{206}$Pb|$^{208}$Pb/$^{206}$Pb\n",
    "|-------|--------|--------|--------|--------|\n",
    "|361|262|515|0.5401|0.1743|\n",
    "|258|174|351|0.5353|0.1641|\n",
    "|184|117|204|0.5143|0.1612|\n",
    "|250|188|333|0.5436|0.1831|\n",
    "|208|304|153|0.5163|0.1959|\n",
    "|346|940|182|0.5147|0.2005|\n",
    "|127|75|180|0.5587|0.1437|\n",
    "|329|339|337|0.5272|0.2134|\n",
    "\n",
    "### a) Calculate $^{206}$Pb/$^{238}$U, $^{207}$Pb/$^{235}$U, $^{208}$Pb/$^{232}$Th for each spot. Don’t forget that the atomic mass of Pb is not constant in each spot (i.e., you’ll have to use the methods you employed for the Rb/Sr problem set, assume that Ab204 is 0, and remember that AbXXX are molar abundances).\n",
    "\n",
    "First, let's set up the data frame:"
   ]
  },
  {
   "cell_type": "code",
   "execution_count": null,
   "metadata": {},
   "outputs": [],
   "source": [
    "data = {'U_ppm' : [361, 258, 184, 250, 208, 346, 127, 329], \n",
    "        'Th_ppm' : [262, 174, 117, 188, 304, 940, 75, 339], \n",
    "        'Pb_ppm' : [515, 351, 204, 333, 153, 182, 180, 337],\n",
    "        'Pb207_Pb206' : [0.5401, 0.5353, 0.5143, 0.5436, 0.5163, 0.5147, 0.5587, 0.5272],\n",
    "        'Pb208_Pb206' : [0.1743, 0.1641, 0.1612, 0.1831, 0.1959, 0.2005, 0.1437, 0.2134]}\n",
    "\n",
    "#We need to define the column order if we want the DataFrame to order our columns in a particular fashion, we also\n",
    "#need to include the index to complete our DataFrame\n",
    "Wilde_frame = pd.DataFrame(data, columns = ['U_ppm', 'Th_ppm', 'Pb_ppm', 'Pb207_Pb206', 'Pb208_Pb206'], index = \n",
    "                        ['Spot_1', 'Spot_2', 'Spot_3', 'Spot_4', 'Spot_5', 'Spot_6', 'Spot_7', 'Spot_8'])\n",
    "\n",
    "Wilde_frame"
   ]
  },
  {
   "cell_type": "markdown",
   "metadata": {},
   "source": [
    "Now let's solve for the various ratios. You'll use the same procedure as we've employed for past problem sets."
   ]
  },
  {
   "cell_type": "code",
   "execution_count": null,
   "metadata": {
    "scrolled": true
   },
   "outputs": [],
   "source": [
    "#empty lists that we'll append to\n",
    "Pb206_mol = []\n",
    "Pb207_mol = []\n",
    "Pb208_mol = []\n",
    "\n",
    "#for loop that does the conversion to Pb206, Pb207, Pb208 for each spot in our DataFrame\n",
    "\n",
    "for i in range(len(Wilde_frame)):\n",
    "    #your math goes here\n",
    "    #here are some useful hints, be sure to uncomment them  \n",
    "    \n",
    "    Ab_Pb206_spot = (1 + Wilde_frame.Pb207_Pb206[i] + Wilde_frame.Pb208_Pb206[i])**-1\n",
    "    Ab_Pb207_spot = Ab_Pb206_spot * Wilde_frame.Pb207_Pb206[i]\n",
    "    Ab_Pb208_spot = Ab_Pb206_spot * Wilde_frame.Pb208_Pb206[i]\n",
    "\n",
    "    \n",
    "    Pb_atomic_mass = Ab_Pb206_spot * Pb206_atomic_mass + Ab_Pb207_spot * Pb207_atomic_mass + Ab_Pb208_spot * Pb208_atomic_mass\n",
    "    mol206 = Wilde_frame.Pb_ppm[i] * (1/1000000) * (1/Pb_atomic_mass) * Ab_Pb206_spot\n",
    "    mol207 = Wilde_frame.Pb_ppm[i] * (1/1000000) * (1/Pb_atomic_mass) * Ab_Pb207_spot\n",
    "    mol208 = Wilde_frame.Pb_ppm[i] * (1/1000000) * (1/Pb_atomic_mass) * Ab_Pb208_spot\n",
    "    \n",
    "    Pb206_mol.append(mol206)\n",
    "    Pb207_mol.append(mol207)\n",
    "    Pb208_mol.append(mol208)\n",
    "    \n",
    "    \n",
    "#add it to the DataFrame\n",
    "\n",
    "#try it yourself here!\n",
    "Wilde_frame['Pb206_mol'] = Pb206_mol\n",
    "Wilde_frame['Pb207_mol'] = Pb207_mol\n",
    "Wilde_frame['Pb208_mol'] = Pb208_mol\n",
    "\n",
    "#let's see what we've made\n",
    "Wilde_frame"
   ]
  },
  {
   "cell_type": "markdown",
   "metadata": {},
   "source": [
    "Okay, now calculate each of the daughter/parent ratios. Remember for the parents you can use natural abundances (but also remember that these are zircons)."
   ]
  },
  {
   "cell_type": "code",
   "execution_count": null,
   "metadata": {},
   "outputs": [],
   "source": [
    "#empty lists that we'll append to\n",
    "Pb206_U238 = []\n",
    "Pb207_U235 = []\n",
    "Pb208_Th232 = []\n",
    "\n",
    "for i in range(len(Wilde_frame)):\n",
    "    U238_mol_spot = Wilde_frame.U_ppm[i] * (1/1000000) * (1/U_atomic_mass) * (1 - U_ratio_zircon)\n",
    "    U235_mol_spot = Wilde_frame.U_ppm[i] * (1/1000000) * (1/U_atomic_mass) * U_ratio_zircon\n",
    "    Th232_mol_spot = Wilde_frame.Th_ppm[i] * (1/1000000) * (1/Th_atomic_mass) \n",
    "    \n",
    "    Pb206_U238_spot = Wilde_frame.Pb206_mol[i]/U238_mol_spot\n",
    "    Pb207_U235_spot = Wilde_frame.Pb207_mol[i]/U235_mol_spot\n",
    "    Pb208_Th232_spot = Wilde_frame.Pb208_mol[i]/Th232_mol_spot\n",
    "    \n",
    "    Pb206_U238.append(Pb206_U238_spot)\n",
    "    Pb207_U235.append(Pb207_U235_spot)\n",
    "    Pb208_Th232.append(Pb208_Th232_spot)\n",
    "    \n",
    "#add it to the data frame\n",
    "Wilde_frame['Pb206_U238'] = Pb206_U238\n",
    "Wilde_frame['Pb207_U235'] = Pb207_U235\n",
    "Wilde_frame['Pb208_Th232'] = Pb208_Th232\n",
    "\n",
    "#let's see what we created\n",
    "Wilde_frame"
   ]
  },
  {
   "cell_type": "markdown",
   "metadata": {},
   "source": [
    "### b) For each spot, calculate the age for each of the chronometers in (a), as well as for $^{207}$Pb/$^{206}$Pb. The $^{207}$Pb/$^{206}$Pb age equation is transcendental. A good way to extract t from it is to construct an iterative solver algorithm with a while loop. I'll introduce that concept below (if you're familiar with the “Goal Seek” function in Excel, it's a similar concept).\n",
    "\n",
    "\n",
    "Let's first do the $^{206}$Pb/$^{238}$U, $^{207}$Pb/$^{235}$U, and $^{208}$Pb/$^{232}$Th ages as those equations are straight-forward and all follow the form:\n",
    "\n",
    "## $\\frac{^{206}Pb}{^{238}U} = e^{^{238}\\lambda t} - 1$"
   ]
  },
  {
   "cell_type": "code",
   "execution_count": null,
   "metadata": {},
   "outputs": [],
   "source": [
    "#empty lists that we'll append to\n",
    "Pb206_U238_age = []\n",
    "Pb207_U235_age = []\n",
    "Pb208_Th232_age = []\n",
    "\n",
    "for i in range(len(Wilde_frame)):\n",
    "    #please calculate it in Ma!\n",
    "    Pb206_U238_age_spot = np.log(Wilde_frame.Pb206_U238[i] + 1)/lambda_238 * (1/1e6)\n",
    "    Pb207_U235_age_spot = np.log(Wilde_frame.Pb207_U235[i] + 1)/lambda_235 * (1/1e6)\n",
    "    Pb208_Th232_age_spot = np.log(Wilde_frame.Pb208_Th232[i] + 1)/lambda_232 * (1/1e6)\n",
    "    \n",
    "    Pb206_U238_age.append(Pb206_U238_age_spot)\n",
    "    Pb207_U235_age.append(Pb207_U235_age_spot)\n",
    "    Pb208_Th232_age.append(Pb208_Th232_age_spot)\n",
    "    \n",
    "#add it to the data frame\n",
    "\n",
    "Wilde_frame['Pb206_U238_age'] = Pb206_U238_age\n",
    "Wilde_frame['Pb207_U235_age'] = Pb207_U235_age\n",
    "Wilde_frame['Pb208_Th232_age'] = Pb208_Th232_age\n",
    "\n",
    "#let's see what we created\n",
    "Wilde_frame"
   ]
  },
  {
   "cell_type": "markdown",
   "metadata": {},
   "source": [
    "Now we can calculate the $^{207}$Pb/$^{206}$Pb age. Here's the equation:\n",
    "\n",
    "## $\\frac{^{207}Pb}{^{206}Pb} = \\frac{^{235}U}{^{238}U}  \\frac{(e^{^{235}\\lambda t} - 1)}{(e^{^{238}\\lambda t} - 1)}$\n",
    "\n",
    "To solve this, I'll show you a commonly used form of an iterative solver that relies on a while loop and if-else selection. You will not need to manipulate the loop structure, but spend some time figuring out what it's doing. I'll leave a blank space where you need to insert the actual math."
   ]
  },
  {
   "cell_type": "code",
   "execution_count": null,
   "metadata": {},
   "outputs": [],
   "source": [
    "#need to do this in a for loop for each spot\n",
    "#empty list that we'll append to\n",
    "\n",
    "Pb207_Pb206_age = []\n",
    "\n",
    "for i in range(len(Wilde_frame)):\n",
    "    \n",
    "    #start with a time guess to get the iteration going, here we'll use the 206/238 age as the initial guess\n",
    "    #need to convert to years\n",
    "    t_guess = Wilde_frame.Pb206_U238_age[i] * 1e6\n",
    "    \n",
    "    #now, with our guess t, see how close we are to the report 207/206 ratio\n",
    "    #we'll report in terms of a percent precision\n",
    "    \n",
    "    guess_207Pb_206Pb = U_ratio_zircon * (np.exp(lambda_235 * t_guess) - 1)/(np.exp(lambda_238 * t_guess) - 1)\n",
    "    precision = 100*abs(guess_207Pb_206Pb-Wilde_frame.Pb207_Pb206[i])/Wilde_frame.Pb207_Pb206[i]\n",
    "    \n",
    "    #We want to improve this precision to .001%, to do that we'll use a while loop structure.\n",
    "    #This while loop keeps \"guessing\" until the level of precision that we designate is achieved.\n",
    "    #To facilitate the guessing, we also use an if, else if (elif) setup.\n",
    "    \n",
    "    #If the difference between our guess and correct answer is positive, the loop sets the guess as the new \"high\"\n",
    "    #value and takes the midpoint between our old guess and this new high point and then iterates again.\n",
    "    #If the difference between our guess and the correct answer is negative, the loop sets the guess as the new\n",
    "    #\"low\" value and takes the midpoint and iterates. The power of the while loop is that it will keep doing this\n",
    "    #until it has \"found\" the answer to a certain precision.\n",
    "    \n",
    "    #We need to set two initial conditions to get our guessing going, basically the absolute bounds on our guessing\n",
    "    t_guess_high = 4550 * 1e6\n",
    "    t_guess_low = 0\n",
    "\n",
    "    while precision > 0.001:\n",
    "        \n",
    "        if (guess_207Pb_206Pb - Wilde_frame.Pb207_Pb206[i]) > 0:\n",
    "            t_guess_high = t_guess\n",
    "            t_guess = (t_guess_low + t_guess_high)/2\n",
    "        elif (guess_207Pb_206Pb - Wilde_frame.Pb207_Pb206[i]) < 0:\n",
    "            t_guess_low = t_guess\n",
    "            t_guess = (t_guess_low + t_guess_high)/2\n",
    "        \n",
    "        #Finally, we recalculate the 207/206 ratio with our new t guess, and see if the precision is close enough.\n",
    "        #If not, the while loop will continue\n",
    "        \n",
    "        #Your math goes here. BUT BUT BUT! Be careful how you set this up as it's possible to have the while loop\n",
    "        #iterate infinitely. You'll know it's done that because you won't see a result output, which should happen\n",
    "        #almost instantaneously if you've done it correctly. If you do find yourself in an infinite loop, use the\n",
    "        #stop button next to the run button to arrest the notebook's kernel.\n",
    "        \n",
    "        guess_207Pb_206Pb = U_ratio_zircon * (np.exp(lambda_235 * t_guess) - 1)/(np.exp(lambda_238 * t_guess) - 1)\n",
    "        precision = 100*abs(guess_207Pb_206Pb-Wilde_frame.Pb207_Pb206[i])/Wilde_frame.Pb207_Pb206[i]\n",
    "    \n",
    "    #don't forget to add this iterative solution to the list!\n",
    "    #please report in Ma!\n",
    "    Pb207_Pb206_age.append(t_guess * (1/1e6))\n",
    "    \n",
    "#and don't forget to add the list to the data frame!\n",
    "Wilde_frame['Pb207_Pb206_age'] = Pb207_Pb206_age\n",
    "\n",
    "#let's see how we did\n",
    "\n",
    "Wilde_frame\n"
   ]
  },
  {
   "cell_type": "markdown",
   "metadata": {},
   "source": [
    "### c) Hopefully you noticed that some of these ages are not internally consistent for many spots. Confirm which spots are actually concordant by plotting these data on a concordia diagram. We'll use the Wetherill Concordia diagram for this excercise.\n",
    "\n",
    "The approach to this will be similar to the one we used for the Sm-Nd problem set and epsilon Nd plots."
   ]
  },
  {
   "cell_type": "code",
   "execution_count": null,
   "metadata": {},
   "outputs": [],
   "source": [
    "#set up the plot\n",
    "\n",
    "plt.figure(figsize = (14, 12))\n",
    "plt.xlabel('$^{207}$Pb/$^{235}$U')\n",
    "plt.ylabel('$^{206}$Pb/$^{238}$U')\n",
    "plt.xlim(0, 90)\n",
    "plt.ylim(0, 1.1)\n",
    "plt.title('Wetherill Concordia for data from Wilde et al. (2001)')\n",
    "\n",
    "#plot up these data\n",
    "#use plt.scatter() \n",
    "plt.scatter(Wilde_frame.Pb207_U235, Wilde_frame.Pb206_U238)\n",
    "\n",
    "#plot the concordia diagram\n",
    "#use a discretized array of age values to do this (from 0 to 4.55 Ga, don't forget to make sure units match though!)\n",
    "#x_vals are the 207/235 ratios, y_vals are the 206/238 ratios\n",
    "time_vals = np.arange(0, 4.55, 0.05)\n",
    "x_vals = np.exp(lambda_235 * time_vals * 1e9) - 1\n",
    "y_vals = np.exp(lambda_238 * time_vals * 1e9) - 1\n",
    "\n",
    "plt.plot(x_vals, y_vals)\n",
    "plt.show()"
   ]
  },
  {
   "cell_type": "markdown",
   "metadata": {},
   "source": [
    "## Problem 3\n",
    "\n",
    "### Plot the $^{206}$Pb/$^{204}$Pb vs. $^{207}$Pb/$^{204}$Pb evolution of Pb for the 1975 Stacey-Kramers model, from 4.57 Ga to present. Parameters and equations are listed below. Show the extension of the first stage compositions to the present day, as well as the second stage.\n",
    "\n",
    "### $\\frac{^{206}Pb}{^{204}Pb} = (\\frac{^{206}Pb}{^{204}Pb})_{T} + (\\frac{^{238}U}{^{204}Pb})_{T} (e^{^{238}\\lambda T} - e^{^{238}\\lambda t})$\n",
    "\n",
    "### $\\frac{^{207}Pb}{^{204}Pb} = (\\frac{^{207}Pb}{^{204}Pb})_{T} + (\\frac{^{238}U}{^{204}Pb})_{T} \\frac{^{235}U}{^{238}U} (e^{^{238}\\lambda T} - e^{^{238}\\lambda t})$\n",
    "\n",
    "### where T = 4.57 Ga for first stage and 3.70 Ga for second stage, $\\frac{^{206}Pb}{^{204}Pb}_{T}$ = 9.307 for first stage and 11.152 for second stage, $\\frac{^{207}Pb}{^{204}Pb}_{T}$ = 10.294 for first stage and 12.998 for second stage, and $\\frac{^{238}U}{^{204}Pb}_{T}$ = 7.192 for first stage and 9.735 for second stage.\n",
    "\n",
    "First let's plot the data, we can use a very similar syntax to the one from the previous problem. I'll let you do most of the setup here."
   ]
  },
  {
   "cell_type": "code",
   "execution_count": null,
   "metadata": {},
   "outputs": [],
   "source": [
    "plt.figure(figsize = (14, 12))\n",
    "plt.xlabel('$^{206}$Pb/$^{204}$Pb')\n",
    "plt.ylabel('$^{207}$Pb/$^{204}$Pb')\n",
    "plt.xlim(9, 19)\n",
    "plt.ylim(10, 16)\n",
    "plt.title('Two stage Pb-Pb evolution (Stacey and Kramers, 1975)')\n",
    "\n",
    "#plot the two-stage lines\n",
    "#use two separate discretized array of age values to do this \n",
    "#(from 0 to 4.57 Ga for stage one, 0 to 3.7 Ga for stage two, don't forget to make sure units match though!)\n",
    "#x_vals are the 206/204 ratios, y_vals are the 207/204 ratios\n",
    "time_vals_1 = np.arange(0, 4.57, 0.01)\n",
    "time_vals_2 = np.arange(0, 3.70, 0.01)\n",
    "x_vals_1 = 9.307 + 7.192 * (np.exp(lambda_238 * 4.57 * 1e9) - np.exp(lambda_238 * time_vals_1 * 1e9))\n",
    "y_vals_1 = 10.294 + 7.192 * U_ratio * (np.exp(lambda_235 * 4.57 * 1e9) - np.exp(lambda_235 * time_vals_1 * 1e9))\n",
    "x_vals_2 = 11.152 + 9.735 * (np.exp(lambda_238 * 3.7 * 1e9) - np.exp(lambda_238 * time_vals_2 * 1e9))\n",
    "y_vals_2 = 12.998 + 9.375 * U_ratio * (np.exp(lambda_235 * 3.7 * 1e9) - np.exp(lambda_235 * time_vals_2 * 1e9))\n",
    "\n",
    "plt.plot(x_vals_1, y_vals_1)\n",
    "plt.plot(x_vals_2, y_vals_2)\n",
    "plt.show()"
   ]
  },
  {
   "cell_type": "markdown",
   "metadata": {},
   "source": [
    "## Problem 4\n",
    "\n",
    "### Leeman et al. (1985) reported Pb isotope data for a suite of deep crustal xenoliths from the Snake River Plain (below). Here are the data:\n",
    "\n",
    "|Sample|$^{206}$Pb/$^{204}$Pb|$^{207}$Pb/$^{204}$Pb|\n",
    "|-------|--------|--------|\n",
    "|1|17.75|15.55|\n",
    "|2|16.73|15.45|\n",
    "|3|14.18|14.98|\n",
    "|4|14.80|14.81|\n",
    "|5|16.23|15.32|\n",
    "|6|14.95|15.18|\n",
    "|7|17.81|15.60|\n",
    "|8|16.09|15.64|\n",
    "|9|14.11|14.82|\n",
    "|10|13.43|14.68|\n",
    "|11|13.56|14.72|\n",
    "|12|19.02|15.75|\n",
    "|13|16.36|15.50|\n",
    "|14|24.65|16.87|\n",
    "|15|18.76|15.88|\n",
    "\n",
    "### a) Plot these data along with the Stacey-Kramer Pb isotope evolution trends.\n",
    "\n",
    "You can recycle the work you did up above in problem 3 for this first part, then simple add the points. But first you'll need to put these data into a data frame. I'll let you do the setup this time."
   ]
  },
  {
   "cell_type": "code",
   "execution_count": null,
   "metadata": {},
   "outputs": [],
   "source": [
    "data = {'Pb206_Pb204' : [17.75, 16.73, 14.18, 14.80, 16.23, 14.95, 17.81, 16.09, 14.11, 13.43, 13.56, 19.02, 16.36, 24.65, 18.76],\n",
    "        'Pb207_Pb204' : [15.55, 15.45, 14.98, 14.81, 15.32, 15.18, 15.60, 15.64, 14.82, 14.68, 14.72, 15.75, 15.50, 16.87, 15.88]}\n",
    "\n",
    "#We need to define the column order if we want the DataFrame to order our columns in a particular fashion, we also\n",
    "#need to include the index to complete our DataFrame\n",
    "Leeman_frame = pd.DataFrame(data, columns = ['Pb206_Pb204', 'Pb207_Pb204'], index = \n",
    "                        ['1', '2', '3', '4', '5', '6', '7', '8', '9', '10', '11', '12', '13', '14', '15'])\n",
    "\n",
    "Leeman_frame"
   ]
  },
  {
   "cell_type": "markdown",
   "metadata": {},
   "source": [
    "Now create the plot. Again, I'll leave this up to you. Make sure you size the axes correctly though so that all points are visible!"
   ]
  },
  {
   "cell_type": "code",
   "execution_count": null,
   "metadata": {},
   "outputs": [],
   "source": [
    "plt.figure(figsize = (14, 12))\n",
    "plt.xlabel('$^{206}$Pb/$^{204}$Pb')\n",
    "plt.ylabel('$^{207}$Pb/$^{204}$Pb')\n",
    "plt.xlim(9, 25)\n",
    "plt.ylim(10, 17)\n",
    "plt.title('Two stage Pb-Pb evolution (Stacey and Kramers, 1975)')\n",
    "\n",
    "#plot the two-stage lines\n",
    "#use two separate discretized array of age values to do this \n",
    "#(from 0 to 4.57 Ga for stage one, 0 to 3.7 Ga for stage two, don't forget to make sure units match though!)\n",
    "#x_vals are the 206/204 ratios, y_vals are the 207/204 ratios\n",
    "time_vals_1 = np.arange(3.70, 4.57, 0.01)\n",
    "time_vals_2 = np.arange(0, 3.70, 0.01)\n",
    "x_vals_1 = 9.307 + 7.192 * (np.exp(lambda_238 * 4.57 * 1e9) - np.exp(lambda_238 * time_vals_1 * 1e9))\n",
    "y_vals_1 = 10.294 + 7.192 * U_ratio * (np.exp(lambda_235 * 4.57 * 1e9) - np.exp(lambda_235 * time_vals_1 * 1e9))\n",
    "x_vals_2 = 11.152 + 9.735 * (np.exp(lambda_238 * 3.7 * 1e9) - np.exp(lambda_238 * time_vals_2 * 1e9))\n",
    "y_vals_2 = 12.998 + 9.375 * U_ratio * (np.exp(lambda_235 * 3.7 * 1e9) - np.exp(lambda_235 * time_vals_2 * 1e9))\n",
    "\n",
    "plt.plot(x_vals_1, y_vals_1)\n",
    "plt.plot(x_vals_2, y_vals_2)\n",
    "plt.scatter(Leeman_frame.Pb206_Pb204, Leeman_frame.Pb207_Pb204)\n",
    "plt.show()"
   ]
  },
  {
   "cell_type": "markdown",
   "metadata": {},
   "source": [
    "### b) Calculate an age for these xenoliths using a Pb-Pb isochron and plot the point on the S-K model trend representing this age.\n",
    "\n",
    "Create the isochron plot first use the setups you've employed in previous problem sets. "
   ]
  },
  {
   "cell_type": "code",
   "execution_count": null,
   "metadata": {},
   "outputs": [],
   "source": [
    "plt.figure(figsize = (8, 6))\n",
    "plt.xlabel('$^{206}$Pb/$^{204}$Pb')\n",
    "plt.ylabel('$^{207}$Pb/$^{204}$Pb')\n",
    "plt.title('Pb-Pb isochron for data from Leeman et al. (1985)')\n",
    "\n",
    "#include the line below that will actually plot up these data\n",
    "#use plt.scatter()\n",
    "plt.scatter(Leeman_frame.Pb206_Pb204, Leeman_frame.Pb207_Pb204)\n",
    "\n",
    "plt.show()"
   ]
  },
  {
   "cell_type": "markdown",
   "metadata": {},
   "source": [
    "Next, calculate an age for this isochron. You can use the unweighted, ordinary linear regression approach. This process will involve both ordinary regression function you wrote for the first problem set, and the iterative solver algorithm described up above. Let's start with copying and pasting the function in the cell below."
   ]
  },
  {
   "cell_type": "code",
   "execution_count": null,
   "metadata": {},
   "outputs": [],
   "source": [
    "def ord_lin_regress(X_vals, Y_vals):\n",
    "    \n",
    "    #hint: it helps to create arrays for XY values and X^2 (use x**2 to raise something to a power) from your input\n",
    "    #first create some empty arrays\n",
    "    \n",
    "    XY_vals = []\n",
    "    X2_vals = []\n",
    "    \n",
    "    #then try this for loop (remember that Python uses zero indexing):\n",
    "    \n",
    "    for i in range(len(X_vals)):\n",
    "        XY = X_vals[i] * Y_vals[i]\n",
    "        X2 = X_vals[i]**2\n",
    "        \n",
    "        XY_vals.append(XY)\n",
    "        X2_vals.append(X2)\n",
    "        \n",
    "    #now calculate slope and intercept below using the sum function, I'll let you try the math here\n",
    "    \n",
    "    slope = (sum(XY_vals)-(sum(X_vals)*sum(Y_vals)/len(X_vals)))/(sum(X2_vals)-(sum(X_vals)**2)/len(X_vals))\n",
    "    intercept = (sum(X_vals)*sum(XY_vals)-sum(Y_vals)*sum(X2_vals))/(sum(X_vals)**2-len(X_vals)*sum(X2_vals))\n",
    "    \n",
    "    return slope, intercept"
   ]
  },
  {
   "cell_type": "markdown",
   "metadata": {},
   "source": [
    "Then, calculate the slope and save it to the variable Pb_slope"
   ]
  },
  {
   "cell_type": "code",
   "execution_count": null,
   "metadata": {},
   "outputs": [],
   "source": [
    "isochron = ord_lin_regress(Leeman_frame.Pb206_Pb204, Leeman_frame.Pb207_Pb204)\n",
    "Pb_slope = isochron[0]\n",
    "\n",
    "print('The Pb-Pb isochron slope is ', Pb_slope)"
   ]
  },
  {
   "cell_type": "markdown",
   "metadata": {},
   "source": [
    "Now we're ready to try to iteratively solve the Pb-Pb age equation. Remember that the slope of the Pb-Pb isochron is:\n",
    "\n",
    "### $m = \\frac{^{235}U}{^{238}U}  \\frac{(e^{^{235}\\lambda t} - 1)}{(e^{^{238}\\lambda t} - 1)}$\n",
    "\n",
    "I'll help you out by giving the while loop structure again, but it'll be up to you to do the math in the correct spot."
   ]
  },
  {
   "cell_type": "code",
   "execution_count": null,
   "metadata": {},
   "outputs": [],
   "source": [
    "#start with some rough guess of age, make sure it's the correct units\n",
    "Pb_age_guess = 3.0 * 1e9\n",
    "\n",
    "#with our age guess, see how close we are to the slope we got in the previous cell\n",
    "#we'll report in terms of a percent precision\n",
    "    \n",
    "guess_slope = U_ratio * (np.exp(lambda_235 * Pb_age_guess) - 1)/(np.exp(lambda_238 * Pb_age_guess) - 1)\n",
    "precision = 100*abs(guess_slope - Pb_slope)/Pb_slope\n",
    "\n",
    "\n",
    "#We need to set two initial conditions to get our guessing going, basically the absolute bounds on our guessing\n",
    "age_guess_high = 4.55 * 1e9\n",
    "age_guess_low = 0\n",
    "\n",
    "while precision > 0.001:\n",
    "       \n",
    "    if (guess_slope - Pb_slope) > 0:\n",
    "        age_guess_high = Pb_age_guess\n",
    "        Pb_age_guess = (age_guess_low + age_guess_high)/2\n",
    "    elif (guess_slope - Pb_slope) < 0:\n",
    "        age_guess_low = Pb_age_guess\n",
    "        Pb_age_guess = (age_guess_low + age_guess_high)/2\n",
    "        \n",
    "    #Finally, we recalculate the 207/206 ratio with our new t guess, and see if the precision is close enough.\n",
    "    #If not, the while loop will continue\n",
    "        \n",
    "    #Your math goes here. BUT BUT BUT! Be careful how you set this up as it's possible to have the while loop\n",
    "    #iterate infinitely. You'll know it's done that because you won't see a result output, which should happen\n",
    "    #almost instantaneously if you've done it correctly. If you do find yourself in an infinite loop, use the\n",
    "    #stop button next to the run button to arrest the notebook's kernel.\n",
    "        \n",
    "    guess_slope = U_ratio * (np.exp(lambda_235 * Pb_age_guess) - 1)/(np.exp(lambda_238 * Pb_age_guess) - 1)\n",
    "    precision = 100*abs(guess_slope - Pb_slope)/Pb_slope\n",
    "\n",
    "#print out the age in Ma \n",
    "print('The Pb-Pb isochron age is ', round(Pb_age_guess/1e6), ' Ma')"
   ]
  },
  {
   "cell_type": "markdown",
   "metadata": {},
   "source": [
    "Finally, calculate the Pb-Pb ratios at this age and add it to the Pb-Pb plot. I've added the one line of code here that will create the point and make it a different shape and color than the other points. I'll let you copy and paste the rest from your work up above. Use the second stage constants listed above in the introduction to problem 3 (because we're beyond 3.7 Ga)."
   ]
  },
  {
   "cell_type": "code",
   "execution_count": null,
   "metadata": {},
   "outputs": [],
   "source": [
    "#calculate the point here\n",
    "Pb_x_val = 11.152 + 9.735 * (np.exp(lambda_238 * 3.7 * 1e9) - np.exp(lambda_238 * Pb_age_guess))\n",
    "Pb_y_val = 12.998 + 9.375 * U_ratio * (np.exp(lambda_235 * 3.7 * 1e9) - np.exp(lambda_235 * Pb_age_guess))\n",
    "\n",
    "plt.figure(figsize = (14, 12))\n",
    "plt.xlabel('$^{206}$Pb/$^{204}$Pb')\n",
    "plt.ylabel('$^{207}$Pb/$^{204}$Pb')\n",
    "plt.xlim(9, 25)\n",
    "plt.ylim(10, 17)\n",
    "plt.title('Two stage Pb-Pb evolution (Stacey and Kramers, 1975)')\n",
    "\n",
    "#plot the two-stage lines\n",
    "#use two separate discretized array of age values to do this \n",
    "#(from 0 to 4.57 Ga for stage one, 0 to 3.7 Ga for stage two, don't forget to make sure units match though!)\n",
    "#x_vals are the 206/204 ratios, y_vals are the 207/204 ratios\n",
    "time_vals_1 = np.arange(3.70, 4.57, 0.01)\n",
    "time_vals_2 = np.arange(0, 3.70, 0.01)\n",
    "x_vals_1 = 9.307 + 7.192 * (np.exp(lambda_238 * 4.57 * 1e9) - np.exp(lambda_238 * time_vals_1 * 1e9))\n",
    "y_vals_1 = 10.294 + 7.192 * U_ratio * (np.exp(lambda_235 * 4.57 * 1e9) - np.exp(lambda_235 * time_vals_1 * 1e9))\n",
    "x_vals_2 = 11.152 + 9.735 * (np.exp(lambda_238 * 3.7 * 1e9) - np.exp(lambda_238 * time_vals_2 * 1e9))\n",
    "y_vals_2 = 12.998 + 9.375 * U_ratio * (np.exp(lambda_235 * 3.7 * 1e9) - np.exp(lambda_235 * time_vals_2 * 1e9))\n",
    "\n",
    "plt.plot(x_vals_1, y_vals_1)\n",
    "plt.plot(x_vals_2, y_vals_2)\n",
    "plt.scatter(Leeman_frame.Pb206_Pb204, Leeman_frame.Pb207_Pb204)                            \n",
    "\n",
    "#here's the one line to make this a unique point, but you'll have to build the rest of the figure around it\n",
    "#this makes it a red square of size 120\n",
    "plt.scatter(Pb_x_val, Pb_y_val, marker = \"s\", c = \"r\", s=120)\n",
    "                                       \n",
    "plt.show()"
   ]
  },
  {
   "cell_type": "markdown",
   "metadata": {},
   "source": [
    "### c) How do you intrepret the significance of the isochron Pb-Pb point as it relates to the rest of the data set? Provide a geologic explanation for the observation from the above plot"
   ]
  },
  {
   "cell_type": "markdown",
   "metadata": {},
   "source": []
  }
 ],
 "metadata": {
  "kernelspec": {
   "display_name": "Python 3",
   "language": "python",
   "name": "python3"
  },
  "language_info": {
   "codemirror_mode": {
    "name": "ipython",
    "version": 3
   },
   "file_extension": ".py",
   "mimetype": "text/x-python",
   "name": "python",
   "nbconvert_exporter": "python",
   "pygments_lexer": "ipython3",
   "version": "3.7.4"
  }
 },
 "nbformat": 4,
 "nbformat_minor": 2
}
