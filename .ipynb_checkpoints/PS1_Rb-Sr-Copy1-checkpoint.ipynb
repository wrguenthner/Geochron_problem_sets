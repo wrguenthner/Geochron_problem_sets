{
 "cells": [
  {
   "cell_type": "markdown",
   "metadata": {},
   "source": [
    "# Problem Set 1, Rb-Sr isochron regression and simple mixing\n",
    "\n",
    "## Objectives: 1) understand the nuts and bolts of doing isochron regressions and interpretations; 2) gain some experience with basic python control loops like the for loop, while loop, and if statement; and 3) practice creating python functions\n",
    "\n",
    "### Knesel et al. (1999) reported the following data for three separate fraction of a lava from the Taylor Creek Rhyolite, which has been dated by high-precision $^{40}$Ar/$^{39}$Ar to 27.92 ± 0.04 Ma (Duffield and Dalrymple, 1990). $^{87}$Rb decays to $^{87}$Sr with a λ = 1.397 × 10$^{-11}$ yr$x^{-1}$ (Villa et al., 2015). With the data provided below and this information, answer the following questions. I've gotten you started with some useful inputs and basic code. It's up to you to do the rest.\n",
    "\n",
    "First, let's import some useful libraries:"
   ]
  },
  {
   "cell_type": "code",
   "execution_count": 1,
   "metadata": {},
   "outputs": [],
   "source": [
    "import numpy as np\n",
    "import matplotlib.pyplot as plt\n",
    "import pandas as pd\n",
    "%matplotlib inline"
   ]
  },
  {
   "cell_type": "markdown",
   "metadata": {},
   "source": [
    "### Now let's setup our data array from the published table in Knesel et al. (1999)\n",
    "\n",
    "Here's what the table looks like in published form:\n",
    "\n",
    "|Phase|Rb (ppm)|Sr (ppm)|$^{87}$Sr/$^{86}$Sr|$^{87}$Sr/$^{86}$Sr 1$\\sigma$|\n",
    "|-----|--------|--------|---------------------|-----------------------------|\n",
    "|Whole Rock|266|10.8|0.741498|0.0000050|\n",
    "|Sanidine|288|32.1|0.724641|0.0000050|\n",
    "|Biotite|576|8.80|0.797381|0.0000045|\n",
    "\n",
    "But let's get it into a form we can use by creating DataFrame; a data structure available from the pandas library that looks like a spreadsheet and has the added benefits of being able to call or index values based on the names of rows or columns, not just integer position. We'll create it by concatenating a dictionary, but there are multiple ways you could do this:"
   ]
  },
  {
   "cell_type": "code",
   "execution_count": 2,
   "metadata": {
    "scrolled": true
   },
   "outputs": [
    {
     "name": "stdout",
     "output_type": "stream",
     "text": [
      "            Rb_ppm  Sr_ppm  Sr87_Sr86  Sr87_Sr86_sigma\n",
      "Whole Rock     266    10.8   0.741498         0.000005\n",
      "Sanidine       288    32.1   0.724641         0.000005\n",
      "Biotite        576     8.8   0.797381         0.000005\n"
     ]
    }
   ],
   "source": [
    "data = {'Rb_ppm' : [266, 288, 576], 'Sr_ppm' : [10.8, 32.1, 8.80], 'Sr87_Sr86' : [0.741498, 0.724641, 0.797381],\n",
    "       'Sr87_Sr86_sigma' : [0.0000050, 0.0000050, 0.0000045]}\n",
    "\n",
    "#We need to define the column order if we want the DataFrame to order our columns in a particular fashion, we also\n",
    "#need to include the index to complete our DataFrame\n",
    "Rb_Sr_frame = pd.DataFrame(data, columns = ['Rb_ppm', 'Sr_ppm', 'Sr87_Sr86', 'Sr87_Sr86_sigma'], index = \n",
    "                        ['Whole Rock', 'Sanidine', 'Biotite'])\n",
    "\n",
    "#let's see what we created\n",
    "print(Rb_Sr_frame)"
   ]
  },
  {
   "cell_type": "markdown",
   "metadata": {},
   "source": [
    "## Problem 1\n",
    "\n",
    "### Calculate $^{87}$Rb/$^{86}$Sr (don’t forget to take into account the different fractional abundances, and therefore atomic mass of Sr in each phase) and plot these data in the form of an isochron.\n",
    "\n",
    "To accomplish this task, let's make some new lists. First, declare some constants that we'll use throughout this problem:"
   ]
  },
  {
   "cell_type": "code",
   "execution_count": 3,
   "metadata": {},
   "outputs": [],
   "source": [
    "#define some useful constants\n",
    "\n",
    "Rb_atomic_mass = 85.4678 #g/mol\n",
    "Ab_Rb87 = 0.278346 #natural (fraction)\n",
    "\n",
    "Sr84_atomic_mass = 83.91343 #g/mol\n",
    "Sr86_atomic_mass = 85.90927 #g/mol\n",
    "Sr87_atomic_mass = 86.90889 #g/mol\n",
    "Sr88_atomic_mass = 87.90562 #g/mol\n",
    "\n",
    "Ab_Sr88 = 0.825845 #natural (fraction)\n",
    "Ab_Sr86 = 0.098566 #natural (fraction)\n",
    "Ab_Sr84 = 0.005574 #natural (fraction)\n",
    "\n",
    "lambda_87 = 1.397e-11 #1/yr\n",
    "Ar_Ar_age = 27.92 #Ma"
   ]
  },
  {
   "cell_type": "markdown",
   "metadata": {},
   "source": [
    "We first need to get the moles of 87Rb, note that you can't make a variable name start with an integer.\n",
    "There are a number of ways you could do this in python; I'm showing you one way that utilizies for loops for tutorial purposes. In future problem sets, I'll gradually reduce the amount of starter information I give you and you'll have free range to try different paths towards a common solution."
   ]
  },
  {
   "cell_type": "code",
   "execution_count": 4,
   "metadata": {
    "scrolled": true
   },
   "outputs": [
    {
     "name": "stdout",
     "output_type": "stream",
     "text": [
      "            Rb_ppm  Sr_ppm  Sr87_Sr86  Sr87_Sr86_sigma      Rb87_mol\n",
      "Whole Rock     266    10.8   0.741498         0.000005  8.662916e-07\n",
      "Sanidine       288    32.1   0.724641         0.000005  9.379398e-07\n",
      "Biotite        576     8.8   0.797381         0.000005  1.875880e-06\n"
     ]
    }
   ],
   "source": [
    "#an empty list that we'll append to\n",
    "\n",
    "Rb87_mol = []\n",
    "\n",
    "#for loop that does the unit conversion to Rb87 for each phase in our DataFrame\n",
    "#notice that you can call the column in the data frame by its header title\n",
    "\n",
    "for val_Rb in Rb_Sr_frame.Rb_ppm:\n",
    "    #your math goes here\n",
    "    #it helps for ease of reading to break it into a few lines\n",
    "    mol87 = val_Rb * (1/1000000) * (1/Rb_atomic_mass) * Ab_Rb87\n",
    "    \n",
    "    Rb87_mol.append(mol87)\n",
    "\n",
    "#add it to the DataFrame\n",
    "Rb_Sr_frame['Rb87_mol'] = Rb87_mol\n",
    "\n",
    "#let's see what we created\n",
    "print(Rb_Sr_frame)"
   ]
  },
  {
   "cell_type": "markdown",
   "metadata": {},
   "source": [
    "Now get the moles of $^{86}$Sr and calculate the $^{87}$Rb/$^{86}$Sr for each phase."
   ]
  },
  {
   "cell_type": "code",
   "execution_count": 5,
   "metadata": {},
   "outputs": [
    {
     "name": "stdout",
     "output_type": "stream",
     "text": [
      "            Rb_ppm  Sr_ppm  Sr87_Sr86  Sr87_Sr86_sigma      Rb87_mol  \\\n",
      "Whole Rock     266    10.8   0.741498         0.000005  8.662916e-07   \n",
      "Sanidine       288    32.1   0.724641         0.000005  9.379398e-07   \n",
      "Biotite        576     8.8   0.797381         0.000005  1.875880e-06   \n",
      "\n",
      "                Sr86_mol   Rb87_Sr86  \n",
      "Whole Rock  1.211274e-08   71.519058  \n",
      "Sanidine    3.606100e-08   26.009810  \n",
      "Biotite     9.816169e-09  191.100985  \n"
     ]
    }
   ],
   "source": [
    "#an empty list that we'll append to\n",
    "Sr86_mol = []\n",
    "\n",
    "#for loop that does the conversion to Sr87 for each phase in our DataFrame\n",
    "\n",
    "for i in range(len(Rb_Sr_frame)):\n",
    "    #your math goes here\n",
    "    #here are some useful hints, be sure to uncomment them  \n",
    "    \n",
    "    Ab_Sr86_sample = (1 + Rb_Sr_frame.Sr87_Sr86[i] + (Ab_Sr88/Ab_Sr86) + (Ab_Sr84/Ab_Sr86))**-1\n",
    "    Ab_Sr84_sample = Ab_Sr86_sample * (Ab_Sr84/Ab_Sr86)\n",
    "    Ab_Sr87_sample = Ab_Sr86_sample * Rb_Sr_frame.Sr87_Sr86[i]\n",
    "    Ab_Sr88_sample = Ab_Sr86_sample * (Ab_Sr88/Ab_Sr86)\n",
    "    \n",
    "    Sr_atomic_mass = Ab_Sr84_sample * Sr84_atomic_mass + Ab_Sr86_sample * Sr86_atomic_mass + Ab_Sr87_sample * Sr87_atomic_mass + Ab_Sr88_sample * Sr88_atomic_mass\n",
    "    mol86 = Rb_Sr_frame.Sr_ppm[i] * (1/1000000) * (1/Sr_atomic_mass) * Ab_Sr86_sample\n",
    "    \n",
    "    Sr86_mol.append(mol86)\n",
    "    \n",
    "#add it to the DataFrame\n",
    "\n",
    "#try it yourself here!\n",
    "Rb_Sr_frame['Sr86_mol'] = Sr86_mol\n",
    "\n",
    "#add 87Rb/86Sr to the DataFrame\n",
    "\n",
    "Rb87_Sr86 = []\n",
    "\n",
    "for i in range(len(Rb_Sr_frame)):\n",
    "    #try it yourself here!\n",
    "    ratio87_86 = Rb_Sr_frame.Rb87_mol[i]/Rb_Sr_frame.Sr86_mol[i]\n",
    "    \n",
    "    Rb87_Sr86.append(ratio87_86)\n",
    "\n",
    "Rb_Sr_frame['Rb87_Sr86'] = Rb87_Sr86\n",
    "    \n",
    "#let's see what we created\n",
    "print(Rb_Sr_frame)"
   ]
  },
  {
   "cell_type": "markdown",
   "metadata": {},
   "source": [
    "Finally, let's plot it up. For this first plot, I'll guide you through it. For full documentation and some tutorials click [here](https://matplotlib.org/tutorials/index.html#introductory). Specifically take a look at the Pyplot tutorial as I'll ask you to use a function listed there. If you're familiar with plotting stuff in Matlab, you'll notice the syntax here is very similar."
   ]
  },
  {
   "cell_type": "code",
   "execution_count": 6,
   "metadata": {},
   "outputs": [
    {
     "data": {
      "image/png": "[encoded data removed]",
      "text/plain": [
       "<Figure size 576x432 with 1 Axes>"
      ]
     },
     "metadata": {
      "needs_background": "light"
     },
     "output_type": "display_data"
    }
   ],
   "source": [
    "#set up the plot\n",
    "\n",
    "plt.figure(figsize = (8, 6))\n",
    "plt.xlabel('$^{87}$Rb/$^{86}$Sr')\n",
    "plt.ylabel('$^{87}$Sr/$^{86}$Sr')\n",
    "plt.ylim((0.71, 0.81))\n",
    "plt.xlim((0, 200))\n",
    "plt.title('Isochron for data from Knessel et al. (1999)')\n",
    "\n",
    "#include the line below that will actually plot up these data\n",
    "#use plt.scatter()\n",
    "plt.scatter(Rb_Sr_frame.Rb87_Sr86, Rb_Sr_frame.Sr87_Sr86)\n",
    "\n",
    "plt.show()"
   ]
  },
  {
   "cell_type": "markdown",
   "metadata": {},
   "source": [
    "## Problem 2\n",
    "\n",
    "### Perform an unweighted regression using the following equations:\n",
    "### $m = \\frac{\\sum{XY}-\\frac{\\sum{X}\\sum{Y}}{n}}{\\sum{X^2}-\\frac{(\\sum{X})^2}{n}}$ \n",
    "### $b = \\frac{\\sum{X}\\sum{XY}-\\sum{Y}\\sum{X^2}}{(\\sum{X})^2-n\\sum{X^2}}$\n",
    "### where n is the number of data points. Report the slope and intercept.\n",
    "\n",
    "For this problem we'll try a different approach. Let's create a function that we can then call to calculate the slope and intercept for a linear regression. This function will take in vector arrays of equal length (X_vals, Y_vals) and return calculated slope and intercept values."
   ]
  },
  {
   "cell_type": "code",
   "execution_count": 7,
   "metadata": {},
   "outputs": [],
   "source": [
    "def ord_lin_regress(X_vals, Y_vals):\n",
    "    \n",
    "    #hint: it helps to create arrays for XY values and X^2 (use x**2 to raise something to a power) from your input\n",
    "    #first create some empty arrays\n",
    "    \n",
    "    XY_vals = []\n",
    "    X2_vals = []\n",
    "    \n",
    "    #then try this for loop (remember that Python uses zero indexing):\n",
    "    \n",
    "    for i in range(len(X_vals)):\n",
    "        XY = X_vals[i] * Y_vals[i]\n",
    "        X2 = X_vals[i]**2\n",
    "        \n",
    "        XY_vals.append(XY)\n",
    "        X2_vals.append(X2)\n",
    "        \n",
    "    #now calculate slope and intercept below using the sum function, I'll let you try the math here\n",
    "    \n",
    "    slope = (sum(XY_vals)-(sum(X_vals)*sum(Y_vals)/len(X_vals)))/(sum(X2_vals)-(sum(X_vals)**2)/len(X_vals))\n",
    "    intercept = (sum(X_vals)*sum(XY_vals)-sum(Y_vals)*sum(X2_vals))/(sum(X_vals)**2-len(X_vals)*sum(X2_vals))\n",
    "    \n",
    "    return slope, intercept"
   ]
  },
  {
   "cell_type": "markdown",
   "metadata": {},
   "source": [
    "Now pass your values for x and values for y to the function and print out the result"
   ]
  },
  {
   "cell_type": "code",
   "execution_count": 8,
   "metadata": {},
   "outputs": [
    {
     "name": "stdout",
     "output_type": "stream",
     "text": [
      "The slope is  0.00044602913892330187\n",
      "The intercept is  0.7115942251173714\n"
     ]
    }
   ],
   "source": [
    "#fill in the parantheses and uncomment\n",
    "#because there are two value returned, python returns a list as an object when ord_lin_regress is called\n",
    "\n",
    "isochron = ord_lin_regress(Rb_Sr_frame.Rb87_Sr86, Rb_Sr_frame.Sr87_Sr86)\n",
    "\n",
    "print('The slope is ', isochron[0])\n",
    "print('The intercept is ', isochron[1])"
   ]
  },
  {
   "cell_type": "markdown",
   "metadata": {},
   "source": [
    "## Problem 3\n",
    "\n",
    "### Now perform a weighted regression (after York, 1966) using these equations: \n",
    "\n",
    "### $m = \\frac{\\sum{[Z^2_iV_i(\\frac{U_i}{W_{Y_i}} + \\frac{mV_i}{W_{X_i}} - \\frac{r_iV_i}{\\alpha_i})]}}{\\sum{[Z^2_iU_i(\\frac{U_i}{W_{Y_i}} + \\frac{mV_i}{W_{X_i}} - mr_i\\frac{V_i}{\\alpha_i})]}}$\n",
    "### $b = Y_m - mX_m$\n",
    "\n",
    "### where\n",
    "\n",
    "### $\\alpha_i = (W_{X_i}W_{Y_i})^\\frac{1}{2}$\n",
    "### $U_i = X_i - X_m$\n",
    "### $V_i = Y_i - Y_m$\n",
    "\n",
    "### and\n",
    "\n",
    "### $W_X = \\frac{1}{\\sigma^2_X}$\n",
    "### $W_Y = \\frac{1}{\\sigma^2_X}$\n",
    "### $Z_i = \\frac{W_{X_i}W_{Y_i}}{m^2W_{Y_i} + W_{X_i} - 2mr_i(W_{X_i}W_{Y_i})^\\frac{1}{2}}$\n",
    "\n",
    "### $X_m = \\frac{\\sum{Z_iX_i}}{\\sum{Z_i}}$\n",
    "### $Y_m = \\frac{\\sum{Z_iY_i}}{\\sum{Z_i}}$\n",
    "\n",
    "### Assume $\\sigma$ for $^{87}$Rb/$^{86}$Sr is 1% of the value you calculated in question 1, for each separate. Use the preliminary slope and intercept you got in problem 2 for the initial iteration on slope. You can assume that $r_i = 0$ as the errors are not correlated to one another. Report the slope and intercept and uncertainties on both. Uncertainties follow these equations:\n",
    "\n",
    "### $(\\sigma_m)^2 = \\frac{1}{\\sum{Z_iU_i^2}}$\n",
    "### $(\\sigma_b)^2 = (\\sigma_m)^2\\frac{\\sum{Z_iX_i^2}}{\\sum{Z_i}}$\n",
    "\n",
    "### Finally, calculate MSWD using this equation:\n",
    "\n",
    "### $MSWD = \\frac{S}{n-2}$\n",
    "\n",
    "### where \n",
    "\n",
    "### $S = \\sum{[(Y_i - mX_i - b)^2Z_i]}$\n",
    "\n",
    "First of all, yuck! It would be nice to only have to write out those equations once and then call them again for any future weighted regression needs. This is the advantage of writing out a function, and making that function as univerally applicable as possible. Second, notice that for the equation of the slope, m appears on both the left and right hand sides of the equation. This is our first introduction to a transcendental equation in this class, and will illustrate an important concept of iteratively solving such equations with a while loop and if statement.\n",
    "\n",
    "To tackle this, let's create a function weight_lin_regress:"
   ]
  },
  {
   "cell_type": "code",
   "execution_count": 9,
   "metadata": {},
   "outputs": [],
   "source": [
    "def weight_lin_regress(X_vals, Y_vals, X_err, Y_err, m_guess, r_in):\n",
    "    #like your previous function, create some empty lists that are the same length as the function inputs\n",
    "    \n",
    "    W_X_vals = []\n",
    "    W_Y_vals = []\n",
    "    alpha_vals = []\n",
    "    r_vals = []\n",
    "    \n",
    "    #calculate the W_X and W_Y values for each X,Y input\n",
    "    for i in range(len(X_err)):\n",
    "        W_X = 1/(X_err[i]**2)\n",
    "        W_Y = 1/(Y_err[i]**2)\n",
    "        alpha = (W_X * W_Y)**(1/2)\n",
    "        r = r_in[i]\n",
    "        \n",
    "        W_X_vals.append(W_X)\n",
    "        W_Y_vals.append(W_Y)\n",
    "        alpha_vals.append(alpha)\n",
    "        r_vals.append(r)\n",
    "    \n",
    "    #now we can set up our while loop to iterate\n",
    "    #a while loop performs a certain set of steps \"while\" a condition is true\n",
    "    #in our case we want that condition to be until our guess and the solution approach a set level of precision\n",
    "    \n",
    "    #first, intialize the m value, we'll call it the prior\n",
    "    m_prior = m_guess\n",
    "    \n",
    "    #now, enter the loop, and have it repeat itself until we get our calculated value within 0.0001%\n",
    "    #need to make sure the while loop will execute the first time, so we'll set the evaluation criteria to \"true\"\n",
    "    \n",
    "    exceeds_err = True \n",
    "    while exceeds_err:\n",
    "        #lets setup our empty lists, we'll need to reset them with each pass of the loop because the values will\n",
    "        #need to be updated for new iterations of the slope\n",
    "        \n",
    "        Z_vals = []\n",
    "        ZX_vals = []\n",
    "        ZY_vals = []\n",
    "        \n",
    "        #now we need a for loop just as with the previous examples to calculate values for each sample\n",
    "        for i in range(len(X_vals)):\n",
    "            Z = (W_X_vals[i]*W_Y_vals[i])/(m_prior**2 * W_Y_vals[i] + W_X_vals[i] - 2*m_prior*r_vals[i]*(W_X_vals[i]*W_Y_vals[i])**(1/2))\n",
    "            ZX = Z * X_vals[i]\n",
    "            ZY = Z * Y_vals[i]\n",
    "            \n",
    "            Z_vals.append(Z)\n",
    "            ZX_vals.append(ZX)\n",
    "            ZY_vals.append(ZY)\n",
    "            \n",
    "        #now calculate the X_m and Y_m values from your Z, ZX, and ZY lists\n",
    "        \n",
    "        X_m = sum(ZX_vals)/sum(Z_vals)\n",
    "        Y_m = sum(ZY_vals)/sum(Z_vals)\n",
    "\n",
    "        #then we can move onto the U and the V values using the same process as above, as you see below, we don't\n",
    "        #actually need the U and V lists for calculating the slope, BUT we do need a list of Z * U^2 for\n",
    "        #the slope error and intercept error\n",
    "        \n",
    "        #if you look closely at the equation for slope, it's a sum of the entire numerator and entire denonimator\n",
    "        #we'll call the top num_vals and the bottom den_vals\n",
    "        U_vals = []\n",
    "        num_vals = []\n",
    "        den_vals = []\n",
    "        \n",
    "        for i in range(len(X_vals)):\n",
    "            U = X_vals[i] - X_m\n",
    "            V = Y_vals[i] - Y_m\n",
    "            U_vals.append(U)\n",
    "            \n",
    "            num = Z_vals[i]**2 * V * (U/W_Y_vals[i] + m_prior*V/W_X_vals[i] - r_vals[i]*V/alpha_vals[i])\n",
    "            den = Z_vals[i]**2 * U * (U/W_Y_vals[i] + m_prior*V/W_X_vals[i] - m_prior*r_vals[i]*V/alpha_vals[i])\n",
    "            \n",
    "            num_vals.append(num)\n",
    "            den_vals.append(den)\n",
    "            \n",
    "        #finally, we have everything we need to calculate a slope value\n",
    "       \n",
    "        m_post = sum(num_vals)/sum(den_vals)\n",
    "\n",
    "        \n",
    "        #below is an if else statement that determines if we have gotten it precise enough, in which case we set\n",
    "        #the exceeds_err value to False and the while loop ends, or the m_post becomes the next m_prior and we repeat\n",
    "        if 100*abs(m_post-m_prior)/m_prior < 0.0001:\n",
    "            \n",
    "            exceeds_err = False\n",
    "            \n",
    "            \n",
    "        else:\n",
    "            \n",
    "            m_prior = m_post\n",
    "            \n",
    "\n",
    "    #don't forget to calculate the intercept, errors, and MSWD!\n",
    "    intercept = Y_m - m_post * X_m\n",
    "    \n",
    "    ZU2_vals = []\n",
    "    ZX2_vals = []\n",
    "    \n",
    "    for i in range(len(X_vals)):\n",
    "        ZU2 = Z_vals[i] * U_vals[i]**2\n",
    "        ZX2 = Z_vals[i] * X_vals[i]**2\n",
    "        \n",
    "        ZU2_vals.append(ZU2)\n",
    "        ZX2_vals.append(ZX2)\n",
    "        \n",
    "    slope_err = (1/sum(ZU2_vals))**(1/2)\n",
    "    intercept_err = slope_err**2 * sum(ZX2_vals)/sum(Z_vals)\n",
    "    \n",
    "    #MSWD\n",
    "    \n",
    "    S_vals = []\n",
    "    \n",
    "    for i in range(len(X_vals)):\n",
    "        S = (Y_vals[i] - m_post * X_vals[i] - intercept)**2 * Z_vals[i]\n",
    "        S_vals.append(S)\n",
    "    \n",
    "    MSWD = sum(S_vals)/(len(X_vals) - 2)\n",
    "    #pass everything out of the function\n",
    "    \n",
    "    return m_post, slope_err, intercept, intercept_err, MSWD"
   ]
  },
  {
   "cell_type": "markdown",
   "metadata": {},
   "source": [
    "Now pass your values to the function and save it in a list called \"knesel\". We'll use this list in the next problem to actually come up with an age."
   ]
  },
  {
   "cell_type": "code",
   "execution_count": 10,
   "metadata": {
    "scrolled": true
   },
   "outputs": [
    {
     "name": "stdout",
     "output_type": "stream",
     "text": [
      "The slope is  0.0004209669595308612  with an error of  4.1178496039747116e-06\n",
      "The intercept is  0.7134791548976849  with an error of  2.9936188525074074e-08\n",
      "The MSWD is  70.30045094996639\n"
     ]
    }
   ],
   "source": [
    "#first, we should add two column to our DataFrame with the 87Rb/86Sr error and the r_i\n",
    "\n",
    "Rb87_Sr86_sigma = []\n",
    "r_i = []\n",
    "\n",
    "#for loop that calculates error\n",
    "\n",
    "for val_Rb_Sr in Rb_Sr_frame.Rb87_Sr86:\n",
    "    \n",
    "    error = val_Rb_Sr * 0.01\n",
    "    r = 0\n",
    "    \n",
    "    Rb87_Sr86_sigma.append(error)\n",
    "    r_i.append(r)\n",
    "\n",
    "#add it to the DataFrame\n",
    "\n",
    "Rb_Sr_frame['Rb87_Sr86_sigma'] = Rb87_Sr86_sigma\n",
    "Rb_Sr_frame['r_i'] = r_i\n",
    "\n",
    "#now pass the values to the function, using the slope value from our ordinary linear regression as the first guess\n",
    "weight_isochron = weight_lin_regress(Rb_Sr_frame.Rb87_Sr86, Rb_Sr_frame.Sr87_Sr86, \n",
    "                                     Rb_Sr_frame.Rb87_Sr86_sigma, Rb_Sr_frame.Sr87_Sr86_sigma, isochron[0], \n",
    "                                     Rb_Sr_frame.r_i)\n",
    "\n",
    "#print out the results\n",
    "print('The slope is ', weight_isochron[0], ' with an error of ', weight_isochron[1])\n",
    "print('The intercept is ', weight_isochron[2], ' with an error of ', weight_isochron[3])\n",
    "print('The MSWD is ', weight_isochron[4])"
   ]
  },
  {
   "cell_type": "markdown",
   "metadata": {},
   "source": [
    "## Problem 4\n",
    "\n",
    "### Calculate an age for these data assuming they form an isochron. Also calculate the uncertainty on the age (i.e. you'll need to use the weighted regression method) Remember the following equations:\n",
    "\n",
    "### $t = \\frac{\\ln(m + 1)}{\\lambda_{87}}$ (in years)\n",
    "### $\\sigma_t = (\\frac{1}{\\lambda_{87}(m + 1)})\\sigma_m$ (in years)\n",
    "\n",
    "We have everything we need from all the cells above to do this. "
   ]
  },
  {
   "cell_type": "code",
   "execution_count": 11,
   "metadata": {},
   "outputs": [],
   "source": [
    "#try this one yourself! use np.log() for the natural log function"
   ]
  },
  {
   "cell_type": "markdown",
   "metadata": {},
   "source": [
    "## Problem 5\n",
    "\n",
    "### Give at least two possible (geologic, not analytical) reasons why the age you get is different from the high-precision $^{40}$Ar/$^{39}$Ar age."
   ]
  },
  {
   "cell_type": "markdown",
   "metadata": {},
   "source": []
  },
  {
   "cell_type": "markdown",
   "metadata": {},
   "source": [
    "## Problem 6\n",
    "\n",
    "### If the data are a mixing trend rather than an isochron, it’s possible that these different separates actually represent varying extents of contamination of a parental magma by Proterozoic granitoids in the area. Test the feasibility of this scenario by doing a simple mixing calculation to estimate how much contaminant you would need to get the observed range of ($^{87}$Sr/$^{86}$Sr)$_i$ in the separates. Assume that the country rock had 300 ppm Sr and $^{87}$Sr/$^{86}$Sr (at 28 Ma) of 0.780, and the original parental magma had the concentration and isotopic composition (corrected for posteruption ingrowth, as in a below) of the whole rock separate.\n",
    "\n",
    "### a. Correct the $^{87}$Sr/$^{86}$Sr of each separate to the initial ratios at the age of the rhyolite.\n",
    "### b. How much contaminant needs to be added to the assumed parental magma (remember: use the initial ratio) to get the highest observed ($^{87}$Sr/$^{86}$Sr)$_i$ in the separates? Use the two-component, isotope mixing equation:\n",
    "\n",
    "### $(\\frac{^{87}Sr}{^{86}Sr})_{mix} = \\frac{X_A[Sr]_A(\\frac{^{87}Sr}{^{86}Sr})_A + (1 - X_A)[Sr]_B(\\frac{^{87}Sr}{^{86}Sr})_B}{X_A[Sr]_A + (1 - X_A)[Sr]_B}$\n",
    "\n",
    "### where X$_A$ is the fraction of component A in component B\n",
    "\n",
    "We'll do part a first, as it's relatively straight-forward. We can add another column to our DataFrame with the corrected initial for $^{87}$Sr/$^{86}$Sr\n"
   ]
  },
  {
   "cell_type": "code",
   "execution_count": 12,
   "metadata": {},
   "outputs": [
    {
     "name": "stdout",
     "output_type": "stream",
     "text": [
      "            Rb_ppm  Sr_ppm  Sr87_Sr86  Sr87_Sr86_sigma      Rb87_mol  \\\n",
      "Whole Rock     266    10.8   0.741498         0.000005  8.662916e-07   \n",
      "Sanidine       288    32.1   0.724641         0.000005  9.379398e-07   \n",
      "Biotite        576     8.8   0.797381         0.000005  1.875880e-06   \n",
      "\n",
      "                Sr86_mol   Rb87_Sr86  Rb87_Sr86_sigma  r_i  Sr87_Sr86_int  \n",
      "Whole Rock  1.211274e-08   71.519058         0.715191    0       0.713597  \n",
      "Sanidine    3.606100e-08   26.009810         0.260098    0       0.714494  \n",
      "Biotite     9.816169e-09  191.100985         1.911010    0       0.722829  \n"
     ]
    }
   ],
   "source": [
    "#an empty list that we'll append to\n",
    "\n",
    "Sr87_Sr86_int = []\n",
    "\n",
    "#for loop that does the unit conversion to Rb87 for each phase in our DataFrame\n",
    "#notice that you can call the column in the data frame by its header title\n",
    "\n",
    "for i in range(len(Rb_Sr_frame)):\n",
    "    #your math goes here, use the np.exp() function to raise something to an exponential\n",
    "    \n",
    "    Sr_int = Rb_Sr_frame.Sr87_Sr86[i] - (Rb_Sr_frame.Rb87_Sr86[i]*(np.exp(Ar_Ar_age*1000000*lambda_87)-1))\n",
    "    \n",
    "    Sr87_Sr86_int.append(Sr_int)\n",
    "\n",
    "#add it to the DataFrame\n",
    "Rb_Sr_frame['Sr87_Sr86_int'] = Sr87_Sr86_int\n",
    "\n",
    "#let's see what we created\n",
    "print(Rb_Sr_frame)"
   ]
  },
  {
   "cell_type": "markdown",
   "metadata": {},
   "source": [
    "For part b, we'll try a brute force approach, where you can I'll get you started with structure, and then you can do the math. The objective here is to simply gain an appreciation for how sensitive (or not) mixing is. Try to get your answer to within 0.01% of the biotite isotope ratio."
   ]
  },
  {
   "cell_type": "code",
   "execution_count": 13,
   "metadata": {},
   "outputs": [
    {
     "name": "stdout",
     "output_type": "stream",
     "text": [
      "Fraction of country rock is  0.006\n",
      "This yields a 87Sr/86Sr initial ratio of  0.7227390913268238  which is within  0.012434990138769088 % of the biotite.\n"
     ]
    }
   ],
   "source": [
    "#define some constants, concentrations in ppm\n",
    "country_Sr = 300\n",
    "magma_Sr = 10.8\n",
    "country_Sr_ratio = 0.780\n",
    "magma_Sr_ratio = 0.713138\n",
    "\n",
    "#the highest 87Sr/86Sr ratio is in the biotite, so let's use that one\n",
    "biotite_Sr_ratio = Rb_Sr_frame.Sr87_Sr86_int[2]\n",
    "\n",
    "#we can solve this iteratively by making a guess on the fraction of country rock needed and then refining that \n",
    "#guess to a certain precision\n",
    "\n",
    "frac_country = 0.006\n",
    "mix_Sr_ratio = (frac_country*country_Sr*country_Sr_ratio + (1-frac_country)*magma_Sr*magma_Sr_ratio)/(frac_country*country_Sr + (1-frac_country)*magma_Sr)\n",
    "\n",
    "precision = 100*abs(mix_Sr_ratio-biotite_Sr_ratio)/biotite_Sr_ratio\n",
    "\n",
    "#and print out the fraction of country rock\n",
    "print('Fraction of country rock is ', frac_country)\n",
    "print('This yields a 87Sr/86Sr initial ratio of ', mix_Sr_ratio, ' which is within ', precision, '% of the biotite.')"
   ]
  },
  {
   "cell_type": "code",
   "execution_count": null,
   "metadata": {},
   "outputs": [],
   "source": []
  }
 ],
 "metadata": {
  "kernelspec": {
   "display_name": "Python 3",
   "language": "python",
   "name": "python3"
  },
  "language_info": {
   "codemirror_mode": {
    "name": "ipython",
    "version": 3
   },
   "file_extension": ".py",
   "mimetype": "text/x-python",
   "name": "python",
   "nbconvert_exporter": "python",
   "pygments_lexer": "ipython3",
   "version": "3.7.4"
  }
 },
 "nbformat": 4,
 "nbformat_minor": 2
}
