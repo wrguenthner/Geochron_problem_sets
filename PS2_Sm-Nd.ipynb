{
 "cells": [
  {
   "cell_type": "markdown",
   "metadata": {},
   "source": [
    "# Problem Set 2, Sm-Nd: $\\varepsilon$Nd plots and model ages\n",
    "\n",
    "## Objectives: 1) understand how to calculate $\\varepsilon$Nd and construct $\\varepsilon$Nd plots; 2) gain more experience with some matplotlib functions; and 3) interpret results in the context of long-term crustal evolution\n",
    "\n",
    "## Problem 1 \n",
    "\n",
    "### Frost (1993) reported the following data for high-grade schists from the Wind River Range, in Wyoming. For each sample, calculate a) $^{147}$Sm/$^{144}$Nd, b) the depleted mantle model age (T$_{DM}$), and c) the $\\varepsilon$(T$_{DM}$)$_{Nd}$. The age of _deposition_ of these rocks is 2.6 Ga. Based on the model ages, what can you interpret about their sources?\n",
    "\n",
    "|Sample|$^{143}$Nd/$^{144}$Nd|Sm (ppm)|Nd (ppm)|\n",
    "|-----|--------|--------|---------|\n",
    "|WP_1|0.510945|1.877|10.11|\n",
    "|FPN81_3|0.51094|8.541|44.86|\n",
    "|FPN81_11b|0.511332|5.310|25.34|\n",
    "|DM83_28|0.51095|9.375|49.69|\n",
    "|4CF_8|0.510765|3.161|17.79|\n",
    "|4CF_37|0.511094|9.283|52.17|\n",
    "|4CF_53|0.510961|6.802|35.40|\n",
    "|AR_7a|0.511285|4.690|24.20|\n",
    "\n",
    "Let's get our useful libraries imported:"
   ]
  },
  {
   "cell_type": "code",
   "execution_count": null,
   "metadata": {},
   "outputs": [],
   "source": [
    "import numpy as np\n",
    "import matplotlib.pyplot as plt\n",
    "import pandas as pd\n",
    "import math\n",
    "%matplotlib inline"
   ]
  },
  {
   "cell_type": "markdown",
   "metadata": {},
   "source": [
    "and now setup our data frame:"
   ]
  },
  {
   "cell_type": "code",
   "execution_count": null,
   "metadata": {},
   "outputs": [],
   "source": [
    "data = {'Nd143_Nd144' : [0.510945, 0.51094, 0.511332, 0.51095, 0.510765, 0.511094, 0.510961, 0.511285], \n",
    "        'Sm_ppm' : [1.877, 8.541, 5.310, 9.375, 3.161, 9.283, 6.802, 4.690], \n",
    "        'Nd_ppm' : [10.11, 44.86, 25.34, 49.69, 17.79, 52.17, 35.40, 24.20]}\n",
    "\n",
    "#We need to define the column order if we want the DataFrame to order our columns in a particular fashion, we also\n",
    "#need to include the index to complete our DataFrame\n",
    "Frost_frame = pd.DataFrame(data, columns = ['Nd143_Nd144', 'Sm_ppm', 'Nd_ppm'], index = \n",
    "                        ['WP_1', 'FPN81_3', 'FPN81_11b', 'DM83_28', '4CF_8', '4CF_37', '4CF_53', 'AR_7a'])\n",
    "\n",
    "#let's see what we created\n",
    "print(Frost_frame)"
   ]
  },
  {
   "cell_type": "markdown",
   "metadata": {},
   "source": [
    "Introduce some constants that we'll need throughout this notebook:"
   ]
  },
  {
   "cell_type": "code",
   "execution_count": null,
   "metadata": {},
   "outputs": [],
   "source": [
    "Sm_atomic_mass = 150.36 #g/mol\n",
    "Ab_Sm147 = 0.1499\n",
    "\n",
    "Nd142_atomic_mass = 141.90772 #g/mol\n",
    "Nd143_atomic_mass = 142.90981 #g/mol\n",
    "Nd144_atomic_mass = 143.91009 #g/mol\n",
    "Nd145_atomic_mass = 144.91257 #g/mol\n",
    "Nd146_atomic_mass = 145.91311 #g/mol\n",
    "Nd148_atomic_mass = 147.91689 #g/mol\n",
    "Nd150_atomic_mass = 149.92089 #g/mol\n",
    "\n",
    "Ab_Nd142 = 0.27168\n",
    "Ab_Nd144 = 0.23794\n",
    "Ab_Nd145 = 0.08290\n",
    "Ab_Nd146 = 0.17177\n",
    "Ab_Nd148 = 0.05748\n",
    "Ab_Nd150 = 0.05626\n",
    "\n",
    "lambda_147 = 6.54e-12 #1/yr\n",
    "\n",
    "Nd143_Nd144_DM = 0.513114\n",
    "Nd143_Nd144_CHUR = 0.512638\n",
    "Sm147_Nd144_DM = 0.2137\n",
    "Sm147_Nd144_CHUR = 0.1967"
   ]
  },
  {
   "cell_type": "markdown",
   "metadata": {},
   "source": [
    "Okay, now we're ready to begin. Let's tackle part a) first. We can use an identical setup here to the one we used in the first problem set. Let's get the moles of $^{147}$Sm:"
   ]
  },
  {
   "cell_type": "code",
   "execution_count": null,
   "metadata": {},
   "outputs": [],
   "source": [
    "#an empty list that we'll append to\n",
    "\n",
    "Sm147_mol = []\n",
    "\n",
    "#for loop that does the unit conversion to Sm147 for each phase in our DataFrame\n",
    "#notice that you can call the column in the data frame by its header title\n",
    "\n",
    "for val_Sm in Frost_frame.Sm_ppm:\n",
    "    \n",
    "    #mol147 = ?\n",
    "    \n",
    "    Sm147_mol.append(mol147)\n",
    "\n",
    "#add it to the DataFrame\n",
    "Frost_frame['Sm147_mol'] = Sm147_mol\n",
    "\n",
    "#let's see what we created\n",
    "print(Frost_frame)"
   ]
  },
  {
   "cell_type": "markdown",
   "metadata": {},
   "source": [
    "Now get the moles of $^{144}$Nd and calculate $^{147}$Sm/$^{144}$Nd."
   ]
  },
  {
   "cell_type": "code",
   "execution_count": null,
   "metadata": {},
   "outputs": [],
   "source": [
    "#an empty list that we'll append to\n",
    "Nd144_mol = []\n",
    "\n",
    "#for loop that does the conversion to Nd144 for each phase in our DataFrame\n",
    "\n",
    "for i in range(len(Frost_frame)):\n",
    "    #your math goes here\n",
    "    #here are some useful hints, be sure to uncomment them  \n",
    "    \n",
    "    #Ab_Nd144_sample = ?\n",
    "    #Ab_Nd142_sample = ?\n",
    "    #Ab_Nd143_sample = ?\n",
    "    #Ab_Nd145_sample = ?\n",
    "    #Ab_Nd146_sample = ?\n",
    "    #Ab_Nd148_sample = ?\n",
    "    #Ab_Nd150_sample = ?\n",
    "    \n",
    "    #Nd_atomic_mass = ?\n",
    "    #mol144 = ?\n",
    "    \n",
    "    Nd144_mol.append(mol144)\n",
    "    \n",
    "#add it to the DataFrame\n",
    "\n",
    "#try it yourself here!\n",
    "\n",
    "#add 147Sm/144Nd to the DataFrame\n",
    "\n",
    "Sm147_Nd144 = []\n",
    "\n",
    "for i in range(len(Frost_frame)):\n",
    "    #try it yourself here!\n",
    "    \n",
    "\n",
    "    \n",
    "#let's see what we created\n",
    "print(Frost_frame)"
   ]
  },
  {
   "cell_type": "markdown",
   "metadata": {},
   "source": [
    "Now for part b). Let's create another column to our data from for the T$_{DM}$. We'll use the following equation:\n",
    "\n",
    "$T_{DM} = \\frac{1}{\\lambda_{147}}\\ln{\\big[\\frac{(\\frac{^{143}Nd}{^{144}Nd})_{sample} - (\\frac{^{143}Nd}{^{144}Nd})_{DM}}{(\\frac{^{147}Sm}{^{144}Nd})_{sample} - (\\frac{^{147}Sm}{^{144}Nd})_{DM}}+ 1\\big]}$\n",
    "\n",
    "where DM correspond to \"depleted mantle\"."
   ]
  },
  {
   "cell_type": "code",
   "execution_count": null,
   "metadata": {
    "scrolled": true
   },
   "outputs": [],
   "source": [
    "#an empty list that we'll append to\n",
    "T_DM = []\n",
    "\n",
    "for i in range(len(Sm_Nd_frame)):\n",
    "    \n",
    "    #in years\n",
    "    \n",
    "    #T = ?\n",
    "    \n",
    "    T_DM.append(T)\n",
    "\n",
    "#add it to the data frame\n",
    "\n",
    "\n",
    "#let's see what we created\n",
    "print(Frost_frame)"
   ]
  },
  {
   "cell_type": "markdown",
   "metadata": {},
   "source": [
    "And finally, part c). Let's add another column to the data frame for $\\varepsilon$(T$_{DM}$)$_{Nd}$. Think carefully through what we're trying to do here. We want to calculate $\\varepsilon$Nd _at the T$_{DM}$ age of each sample_. To accomplish this, you'll need to manipulate the age equation for the Sm-Nd system:\n",
    "\n",
    "$\\frac{^{143}Nd}{^{144}Nd} = (\\frac{^{143}Nd}{^{144}Nd})_{i} + \\frac{^{147}Sm}{^{144}Nd}(e^{\\lambda_{147}t} - 1)$\n",
    "\n",
    "and solve for both the $\\frac{^{143}Nd}{^{144}Nd}$ of the sample and CHUR at a specific time. You'll need to use the math.exp() function to raise something to the exponential (note that we imported the math library back up at the top of this notebook)."
   ]
  },
  {
   "cell_type": "code",
   "execution_count": null,
   "metadata": {},
   "outputs": [],
   "source": [
    "#an empty list that we'll append to\n",
    "EpT_DM = []\n",
    "\n",
    "for i in range(len(Sm_Nd_frame)):\n",
    "    \n",
    "    #Nd143_Nd144_0 = ?\n",
    "    #Nd143_Nd144_T_chur = ?\n",
    "    #EpT = ?\n",
    "    \n",
    "    EpT_DM.append(EpT)\n",
    "\n",
    "#add it to the data frame\n",
    "\n",
    "\n",
    "#let's see what we created\n",
    "print(Frost_frame)"
   ]
  },
  {
   "cell_type": "markdown",
   "metadata": {},
   "source": [
    "Finally, answer the question below: Given the model ages, what can you say about the sources for these schists?"
   ]
  },
  {
   "cell_type": "markdown",
   "metadata": {},
   "source": []
  },
  {
   "cell_type": "markdown",
   "metadata": {},
   "source": [
    "## Problem 2\n",
    "\n",
    "### Bowring and Housh (1995) measured Nd isotope data from whole rocks, and high-precision U/Pb ages from zircons in the same whole rocks, in samples from the Acasta gneiss in northwestern Canada. The data are given below:\n",
    "\n",
    "|Sample|U/Pb age (Ga)|Nd (ppm)|Sm (ppm)|$^{147}$Sm/$^{144}$Nd|$^{143}$Nd/$^{144}$Nd|\n",
    "|-----|-----|--------|--------|---------|---------|\n",
    "|1|4.00|37.58|5.28|0.08487|0.509854|\n",
    "|2|4.00|16.15|4.23|0.1583|0.511376|\n",
    "|3|3.94|15.99|1.94|0.07325|0.509598|\n",
    "|4|3.74|34.41|5.64|0.09903|0.510108|\n",
    "|5|3.72|18.57|3.07|0.09982|0.510217|\n",
    "|6|3.60|5.23|1.26|0.14519|0.511189|\n",
    "|7|3.60|11.2|2.02|0.10945|0.51061|\n",
    "|8|3.60|91.36|12.2|0.08086|0.509746|\n",
    "|9|3.60|50.59|9.38|0.11214|0.51042|\n",
    "|10|3.60|5.72|1.07|0.11267|0.510767|\n",
    "\n",
    "### Part a. Calculate $\\varepsilon$(0)$_{Nd}$ (i.e. present day) and $\\varepsilon$(T)$_{Nd}$ (i.e. at the U/Pb age) for each sample, and plot both versus time, from 4.56 Ga to the present. (Hint: first calculate $^{143}$Nd/$^{144}$Nd at the U/Pb age, then normalize that to the $^{143}$Nd/$^{144}$Nd of CHUR at that age). Also plot $\\varepsilon$(T)$_{Nd}$ trends for depleted mantle on the same plot, assuming both DePaolo’s original $\\varepsilon$(T)$_{Nd}$ = 0.25T$^2$ – 3T + 8.5, and a linear model with $\\varepsilon$(T)$_{Nd}$ = 8.6 - 1.9T.\n",
    "\n",
    "First, let's create a data frame for these data. The error on the $^{143}$Nd/$^{144}$Nd values as reported by Bowring and Housh (1995) is 0.000010 for all samples. The error on $^{147}$Sm/$^{144}$Nd is 0.2%"
   ]
  },
  {
   "cell_type": "code",
   "execution_count": null,
   "metadata": {},
   "outputs": [],
   "source": [
    "data = {'U_Pb' : [4.00, 4.00, 3.94, 3.74, 3.72, 3.60, 3.60, 3.60, 3.60, 3.60],\n",
    "        'Nd_ppm' : [37.58, 16.15, 15.99, 34.41, 18.57, 5.23, 11.2, 91.36, 50.59, 5.72],\n",
    "        'Sm_ppm' : [5.28, 4.23, 1.94, 5.64, 3.07, 1.26, 2.02, 12.2, 9.38, 1.07],\n",
    "        'Sm147_Nd144' : [0.08487, 0.1583, 0.07325, 0.09903, 0.09982, 0.14519, 0.10945, 0.08086, 0.11214, 0.11267], \n",
    "        'Nd143_Nd144' : [0.509854, 0.511376, 0.509598, 0.510108, 0.510217, 0.511189, 0.51061, 0.509746, 0.51042, 0.510767],\n",
    "        'Nd143_Nd144_sigma' : [0.000010, 0.000010, 0.000010, 0.000010, 0.000010, 0.000010, 0.000010, 0.000010, 0.000010, 0.000010]}\n",
    "\n",
    "#We need to define the column order if we want the DataFrame to order our columns in a particular fashion, we also\n",
    "#need to include the index to complete our DataFrame\n",
    "BH_frame = pd.DataFrame(data, columns = ['U_Pb', 'Nd_ppm', 'Sm_ppm', 'Sm147_Nd144', 'Nd143_Nd144', 'Nd143_Nd144_sigma'], index = \n",
    "                        ['SAB91_37', 'SAB91_38', 'SAB89_39', 'SAB89_38', 'SAB90_71', 'BGXM_GT', 'SAB89_18', 'SAB89_21', 'SAB91_10', 'SAB91_5'])\n",
    "\n",
    "#create the error column and add it to the data frame\n",
    "BH_frame.insert(4, 'Sm147_Nd144_sigma', BH_frame.Sm147_Nd144 * 0.002)\n",
    "\n",
    "#let's see what we created\n",
    "print(BH_frame)"
   ]
  },
  {
   "cell_type": "markdown",
   "metadata": {},
   "source": [
    "Now we can calculate $\\varepsilon$(0)$_{Nd}$ (i.e. present day) and $\\varepsilon$(T)$_{Nd}$ (i.e. at the U/Pb age). By mindful of your units! \n",
    "\n",
    "(We could do this in one for loop, but for ease of reading and following along, we'll break it into two. Note that if you're working with really big data sets, then it's best to minimize the number of for loops you have in your code so that it runs more efficiently.)"
   ]
  },
  {
   "cell_type": "code",
   "execution_count": null,
   "metadata": {},
   "outputs": [],
   "source": [
    "#an empty list that we'll append to\n",
    "Ep_0 = []\n",
    "\n",
    "for val143_144 in BH_frame.Nd143_Nd144:\n",
    "    \n",
    "    #EpT = ?\n",
    "    \n",
    "    Ep_0.append(EpT)\n",
    "\n",
    "#add it to the data frame\n",
    "BH_frame['Ep_0'] = Ep_0\n",
    "\n",
    "#another empty list that we'll append to\n",
    "Ep_U_Pb = []\n",
    "\n",
    "for i in range(len(BH_frame)):\n",
    "    \n",
    "    #T_sam = ?\n",
    "    #Nd143_Nd144_T_chur = ?\n",
    "    #EpT = ?\n",
    "    \n",
    "    Ep_U_Pb.append(EpT)\n",
    "\n",
    "#add it to the data frame\n",
    "\n",
    "\n",
    "#let's see what we created\n",
    "print(BH_frame)"
   ]
  },
  {
   "cell_type": "markdown",
   "metadata": {},
   "source": [
    "Let's make the plot. As with the previous problem set, I'll get you started and then you can fill in the crucial bits. \n",
    "\n",
    "Plotting up a function is a little bit tricker than just a scatter plot of data. The basic strategy is to create a discretized list of numbers along the x axis (specifically, an array), and then evaluate those x values to get a y value. I'll guide you through this process below. We'll use the function numpy.arange() to create our discrete array of x values. This function takes three arguments: a start value, an end value, and the spacing increment; each of which are separated by commas. "
   ]
  },
  {
   "cell_type": "code",
   "execution_count": null,
   "metadata": {},
   "outputs": [],
   "source": [
    "#set up the plot\n",
    "\n",
    "plt.figure(figsize = (14, 12))\n",
    "plt.xlabel('Time (Ga)')\n",
    "plt.ylabel('$\\epsilon$Nd')\n",
    "plt.ylim((-60,10))\n",
    "#if we want to change the spacing of our ticks, we can also us a numpy array to do it\n",
    "x_ticks = np.arange(0, 4.5, 0.5)\n",
    "plt.xticks(x_ticks)\n",
    "\n",
    "#these bits of code are needed to change where the x axis and y axis intersect each other\n",
    "#the \"spines\" here are the two axes (bottom and left) and the bounding box (top and right)\n",
    "#these bits of code also allow us to make the plot more asethetically pleasing by removing the bounding box\n",
    "#the .gca() function just let's python know that we want to manipulate the figure as defined in the lines of code above\n",
    "\n",
    "ax = plt.gca()\n",
    "ax.spines['bottom'].set_position(('data', 0))\n",
    "ax.spines['left'].set_position(('data', 0))\n",
    "ax.spines['top'].set_visible(False)\n",
    "ax.spines['right'].set_visible(False)\n",
    "\n",
    "plt.title('$\\epsilon$Nd for data from Bowring and Housh (1995)')\n",
    "\n",
    "#plot up these data\n",
    "#use plt.scatter() and this list of zeros for your \"dummy\" x values\n",
    "zeros = [0] * 10\n",
    "#plt.scatter(?, ?)\n",
    "#plt.scatter(?, ?)\n",
    "\n",
    "#plot the depleted mantle lines\n",
    "#use a discretized array of x values to do this\n",
    "\n",
    "#x_vals = np.arange(?, ?, ?)\n",
    "#y_vals_linear = ?\n",
    "#y_vals_depaolo = ?\n",
    "\n",
    "#plt.plot(?, ?)\n",
    "#plt.plot(?, ?)\n",
    "\n",
    "plt.show()"
   ]
  },
  {
   "cell_type": "markdown",
   "metadata": {},
   "source": [
    "### Part b. What is the range of $\\varepsilon$(T)$_{Nd}$ for these rocks? Are they consistent with derivation from a depleted mantle reservoir that followed the trends that you plotted? Assuming that these initial isotopic compositions are accurate, what are some potential geologic implications of the highest and lowest $\\varepsilon$(T)$_{Nd}$ samples? \n",
    "\n",
    "Use the next cell below to write in your answer."
   ]
  },
  {
   "cell_type": "markdown",
   "metadata": {},
   "source": []
  },
  {
   "cell_type": "markdown",
   "metadata": {},
   "source": [
    "### Part c. Now plot these samples on a Sm/Nd isochron, and calculate an age from it. Why is this age so different from that of the U/Pb ages?\n",
    "\n",
    "First let's plot the data, we can use a very similar syntax to the one from the previous problem. I'll let you do most of the setup here."
   ]
  },
  {
   "cell_type": "code",
   "execution_count": null,
   "metadata": {},
   "outputs": [],
   "source": [
    "plt.figure(figsize = (8, 6))\n",
    "plt.xlabel('$^{147}$Sm/$^{144}$Nd')\n",
    "plt.ylabel('$^{143}$Nd/$^{144}$Nd')\n",
    "plt.ylim((0.5095, 0.5115))\n",
    "plt.xlim((0, 0.2))\n",
    "plt.title('Isochron for data from Bowring and Housh (1995)')\n",
    "\n",
    "#include the line below that will actually plot up these data\n",
    "#use plt.scatter()\n",
    "\n",
    "#plt.scatter(?, ?)\n",
    "\n",
    "plt.show()"
   ]
  },
  {
   "cell_type": "markdown",
   "metadata": {},
   "source": [
    "For calculating the age, we'll need to get the slope. Here is a good illustration of the power of the function. We have already done this excercise in PS1, so we can simply reuse (copy and paste below) the unweighted linear regression function to get a value for the slope. \n",
    "\n",
    "### BONUS: You can also get MSWD for this isochron if you use both the unweighted and weighted linear regression functions. Try this if you're feeling bold!"
   ]
  },
  {
   "cell_type": "code",
   "execution_count": null,
   "metadata": {},
   "outputs": [],
   "source": [
    "#paste in your function (or functions) from PS1 below\n"
   ]
  },
  {
   "cell_type": "markdown",
   "metadata": {},
   "source": [
    "Now we can call the function in our next cell to calculate a slope (and MSWD if you're trying the bonus) and then calculate an age. Report the age (and MSWD) as the output _in Ma_."
   ]
  },
  {
   "cell_type": "code",
   "execution_count": null,
   "metadata": {},
   "outputs": [],
   "source": [
    "#fill in the parantheses and uncomment\n",
    "#because there are two value returned, python returns a list as an object when ord_lin_regress is called\n",
    "\n",
    "#isochron = ord_lin_regress(?, ?)\n",
    "\n",
    "#calculate the weighted slope, as well as the MSWD here\n",
    "#don't forget to add the r_i to the data frame (assume it's a column of all 0s)\n",
    "\n",
    "r_i = [0] * 10\n",
    "BH_frame['r_i'] = r_i\n",
    "\n",
    "#weight_isochron = weight_lin_regress(?, ?, ?, ?, ?, ?)\n",
    "\n",
    "#isochron_age = ?\n",
    "\n",
    "#convert to millions of years\n",
    "#notice that the same variable shows up on both the left and right hand side of the equals sign\n",
    "#this is because Python will evaluate (i.e. do the math) to the right hand side first THEN assign this newly\n",
    "#updated value to the name on the left hand side\n",
    "isochron_age = isochron_age/1000000\n",
    "\n",
    "#print out the result, you can delete the part about MSWD if you didn't try that\n",
    "\n",
    "#print('The age is ', ?, ' with an MSWD of ', ?)"
   ]
  },
  {
   "cell_type": "markdown",
   "metadata": {},
   "source": [
    "Finally, answer the question below: Why is this age so different from that of the U/Pb ages?"
   ]
  },
  {
   "cell_type": "markdown",
   "metadata": {},
   "source": []
  },
  {
   "cell_type": "markdown",
   "metadata": {},
   "source": [
    "### Part d. Now draw lines connecting the $\\varepsilon$(0)$_{Nd}$ of each sample to its $\\varepsilon$(T)$_{Nd}$ (the εNd at the U/Pb crystallization age). At about what age (or small age range) do most of the lines intersect? What sort of geologic event might this age represent? What sort of geologic scenario might lead to the case in which this age of intersection has no age significance?\n",
    "\n",
    "Create the plot first. Start by copying and pasting the lines of code for the previous plot up above. Instead of scatter plots though, you'll create a series of line plots using the function plt.plot(). This function takes in x values and y values separated by a comma. There's several other things you can do here too, like changing the line color and whether it's dashed, dotted, etc. Check out the matplotlib website for more details. For now, we'll just use the function in the most basic way."
   ]
  },
  {
   "cell_type": "code",
   "execution_count": null,
   "metadata": {},
   "outputs": [],
   "source": [
    "#copy and paste below\n",
    "\n",
    "\n",
    "#plot up these data as lines, you'll need to make a separate call to plt.plot() for each line\n",
    "#you can use a for loop to do this\n",
    "#I've given you a hint for the syntax for the plt.plot() function, fill in the ?s\n",
    "\n",
    "for i in range(len(BH_frame.U_Pb)):\n",
    "    #plt.plot([?, ?],[?, ?])\n",
    "    \n",
    "\n",
    "plt.show()"
   ]
  },
  {
   "cell_type": "markdown",
   "metadata": {},
   "source": [
    "Now answer the following questions below: At about what age (or small age range) do most of the lines intersect? What sort of geologic event might this age represent? What sort of geologic scenario might lead to the case in which this age of intersection has no age significance?"
   ]
  },
  {
   "cell_type": "markdown",
   "metadata": {},
   "source": []
  }
 ],
 "metadata": {
  "kernelspec": {
   "display_name": "Python 3 (ipykernel)",
   "language": "python",
   "name": "python3"
  },
  "language_info": {
   "codemirror_mode": {
    "name": "ipython",
    "version": 3
   },
   "file_extension": ".py",
   "mimetype": "text/x-python",
   "name": "python",
   "nbconvert_exporter": "python",
   "pygments_lexer": "ipython3",
   "version": "3.7.13"
  }
 },
 "nbformat": 4,
 "nbformat_minor": 2
}
