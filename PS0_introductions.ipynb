{
 "cells": [
  {
   "attachments": {},
   "cell_type": "markdown",
   "metadata": {},
   "source": [
    "# Problem Set 0, an introduction to Python and Jupyter Notebooks \n",
    "\n",
    "## Objectives: 1) understand the basics of python including data types, control statements, functions, and data structures; 2) practice reading and writing simple bits of code; and 3) gain experience running code in Jupyter Notebooks\n",
    "\n",
    "In this class we'll be using the programming language Python to do data analysis to solve scientific problems. Python is a great progamming language to use for science because it is (relatively) easy to read; it has a huge user base with all sorts of extremely useful packages (i.e., prewritten code) specifically designed for doing science; and it is an \"interpreted\" language which is dynamically typed and garabage-collecting (these are all just ways of saying, you don't need to compile it to run it). The objective throughout this semester is to get you some basic familiarity with this versatile language and spark your interest in learning more; this is NOT a computer science class and so we will only focus on some of the funcationality that is most useful for us in geochronology.\n",
    "\n",
    "The software or \"Integrated Development Environment\" (IDE) that we will be using for this task is called Jupyter Notebook. This is kind of like saying that we will write our papers in the language English (i.e. Python) using the software Microsoft Word (i.e. Jupyter Notebook). Jupyter Notebook is an excellent first IDE (and in some cases the only IDE you'll need) to get used to coding in Python. The key advantages of using a Notebook is that you can interperse plain language text called \"Markdown\" (i.e. what you're reading now), with bits of codes AND you can run those bits of code individually without having to write a whole long script that may or may not fully compile. This makes it great for working with small, bite sized calculations that might add up to a big figure you're going to include in a manuscript, or doing error testing on a more complex code that you might want to turn into an elaborate script at some point.\n",
    "\n",
    "Okay! So let's get started!\n",
    "\n",
    "### 1) Types (ints, floats, and strings), simple math, importing packages \n",
    "\n",
    "Your first task is to see how Jupyter Notebook can be used as a simple calculator. I've entered the simplest expression below (2+2). To execute this bit of code, highlight the cell by clicking somewhere within the cell, then click the \"run\" button."
   ]
  },
  {
   "cell_type": "code",
   "execution_count": null,
   "metadata": {},
   "outputs": [],
   "source": [
    "2 + 2"
   ]
  },
  {
   "attachments": {},
   "cell_type": "markdown",
   "metadata": {},
   "source": [
    "Notice that the brackets to the left of the cell now display a \"1\" inside them and the output is displayed below the cell. The brackets are useful as they allow you to keep track of the order in which the cells are run. In a typical Python script, the code will execute line-by-line down the page, but in Jupyter Notebook, you can run cells in any order you want. This is both extremely useful and also a little dangerous (if you're not keeping track), as we'll see throughout the semester. The output here was an interger value, which is called an \"int\" in Python (and other languages). Numbers with decimal places (even something like 4.0) are called floating-point numbers or \"float\". Let's try another one. Python is intelligent enough to know the order of operations for simple math expressions (\"Please Excuse My Dear Aunt Sally\"). Run the cell below to produce a float."
   ]
  },
  {
   "cell_type": "code",
   "execution_count": null,
   "metadata": {},
   "outputs": [],
   "source": [
    "(2 + 2) * 5 * (1/3) + 4**2"
   ]
  },
  {
   "attachments": {},
   "cell_type": "markdown",
   "metadata": {},
   "source": [
    "Notice the \"**\" after 4. This is the Python convention that we use to raise something to a power (in this case 4 squared, which equals 16). Let's say we want to store the value of 2 + 2 in a variable that we can reuse for later. To do that, we use an \"=\" sign, which we treat NOT as a means to assess equality, but instead as an \"assignment operator\". That is, the value on the left of the \"=\" becomes or rather, is stored in the computer's RAM, as the value on the right side.\n",
    "\n",
    "#### Note: this is an extremely important concept in programming! The Python interpreter (Jupyter Notebook) first \"does the math\" on the RIGHT side of the = sign, THEN assigns the value to the variable on the LEFT."
   ]
  },
  {
   "cell_type": "code",
   "execution_count": null,
   "metadata": {},
   "outputs": [],
   "source": [
    "my_variable = 2 + 2"
   ]
  },
  {
   "attachments": {},
   "cell_type": "markdown",
   "metadata": {},
   "source": [
    "Notice that when you ran the cell above, nothing seems to have happened (there was no output). But now the variable \"my_variable\" points to the value of 2+2 in memory and can be called upon throughout the Notebook. If we want to show the value of something, the simple \"print()\" function works quite well. With Jupyter Notebooks, notice below that we can call variables created in one cell in subsequent cells __so long as the little number in the bracket for the cell in which the variable was assigned precedes the cell you're about to run!__ Run the cell below to see it in action."
   ]
  },
  {
   "cell_type": "code",
   "execution_count": null,
   "metadata": {},
   "outputs": [],
   "source": [
    "print(my_variable)"
   ]
  },
  {
   "attachments": {},
   "cell_type": "markdown",
   "metadata": {},
   "source": [
    "Let's return to the concept of how both sides of an \"=\" are evaulated; first the operation is performed on the right side, then the value is assigned to the variable on the left side. This becomes a powerful concept when we want to modify our variable by adding to it. For example, take a look at the code below. Before you run the code, predict what the output from \"print()\" will be. Why?"
   ]
  },
  {
   "cell_type": "code",
   "execution_count": null,
   "metadata": {},
   "outputs": [],
   "source": [
    "my_variable = my_variable + 2\n",
    "print(my_variable)"
   ]
  },
  {
   "attachments": {},
   "cell_type": "markdown",
   "metadata": {},
   "source": [
    "Let's say we want to do some math that requires something a little more complex than just addition, subtraction, etc. We want to take the square root of 16. To do this, we can call a square root \"function\". A function in python has a name, followed by parentheses into which we put a variable. The function takes the variable within the parentheses as input and returns some output (\"print()\" is an example). The square root function is \"sqrt()\". \n",
    "\n",
    "You could try to enter \"sqrt(16)\" into the cell below, but you'll get an error message. That's because we have to do a few more things. The sqrt() function is actually within a package called \"math\". You can think of packages as extensive libraries with lots of functions within them. Some libraries come with each new release of Python posted at https://www.python.org. Others are generated by the broader Python user community, but have become essential, go-to tools in the sciences and are now bundled with certain releases or \"distributions\" of Python. NumPy, Pandas and Matplotlib are examples we'll use a lot of in this class, and these are now bundled in the Anaconda distribution of Python (this is why I had you download Python from https://www.anaconda.com and not the main website for Python). You can also create your own packages and functions, and we'll get some practice at that this semester. \n",
    "\n",
    "So returning to our original problem. We call functions within libraries using the dot (.) operator like so: package.function(). This tells the Python interpreter to look up the function to the right of the dot, which is found within the package to the left of the dot, and then pass some value to that function. So our call to get the square root of 16 looks like: math.sqrt(16). You could enter that below... but you would still get an error! That's because there's one more thing we have to do. Except for a limited number of built-in functions, all other libraries have to be imported to save a specific spot in the computer's RAM for us to access them from. That is, Python doesn't know what libraries you want to use until you tell it. SO! The FINAL thing we have to do to get this to work is import the math library with a bit of code that reads: \"import math\". The full three lines of code are in the cell below."
   ]
  },
  {
   "cell_type": "code",
   "execution_count": null,
   "metadata": {},
   "outputs": [],
   "source": [
    "import math\n",
    "my_other_variable = math.sqrt(16)\n",
    "print(my_other_variable)"
   ]
  },
  {
   "attachments": {},
   "cell_type": "markdown",
   "metadata": {},
   "source": [
    "Before moving on, there's one more primitive type that I want to introduce: the string. Any words that we send to variables are called strings in Python, and they are denoted by either \"\" or ''. For example \"Hello world\" and 'Hello world' can be referenced to a variable with the type string."
   ]
  },
  {
   "cell_type": "code",
   "execution_count": null,
   "metadata": {},
   "outputs": [],
   "source": [
    "my_string = 'Hello world'\n",
    "print(my_string)"
   ]
  },
  {
   "attachments": {},
   "cell_type": "markdown",
   "metadata": {},
   "source": [
    "Ints and floats that are encompassed by either \"\" or '' also become strings."
   ]
  },
  {
   "cell_type": "code",
   "execution_count": null,
   "metadata": {},
   "outputs": [],
   "source": [
    "my_second_string = '3.1415'\n",
    "print(my_second_string)\n",
    "type(my_second_string)"
   ]
  },
  {
   "attachments": {},
   "cell_type": "markdown",
   "metadata": {},
   "source": [
    "Notice how that looks like a decimal number, but the type() function tells us that it's a string. This can be confusing and tricky sometimes, especially when you import data from a csv file in which everything, even the numbers, might have been cast as strings. Try adding my_second_string to itself:"
   ]
  },
  {
   "cell_type": "code",
   "execution_count": null,
   "metadata": {},
   "outputs": [],
   "source": [
    "my_second_string = my_second_string + my_second_string\n",
    "\n",
    "print(my_second_string)"
   ]
  },
  {
   "attachments": {},
   "cell_type": "markdown",
   "metadata": {},
   "source": [
    "What the ... ?!? What Python actually did here is \"concatenate\" the string. Similarly, if you added \"My name \" to \"is Willy\" you'd get \"My name is Willy\". What if we want to add 3.1415 to 3.1415 and get the sum? We can use the function float() to turn our string back into a decimal number:"
   ]
  },
  {
   "cell_type": "code",
   "execution_count": null,
   "metadata": {},
   "outputs": [],
   "source": [
    "my_second_string = '3.1415'\n",
    "\n",
    "my_second_string = float(my_second_string)\n",
    "\n",
    "my_second_string = my_second_string + my_second_string\n",
    "print(my_second_string)"
   ]
  },
  {
   "attachments": {},
   "cell_type": "markdown",
   "metadata": {},
   "source": [
    "One more neat thing about strings, different from ints and floats, is that they can be indexed. That is, we can extract and report sub-strings or individual characters within the string by using a set of brackets with a number within it like \"[1]\" or \"[3]\". Python uses \"zero indexing\", which means that it starts indexing with the number 0: my_string[0] returns \"H\", my_string[1] returns \"e\", etc. We can also report out segments of strings by using a colon like so: my_string[1:3], my_string[2:4], etc. Finally, we can go in reverse by using a \"-1\" to get the last character in the string. Some examples are shown below. We will use indexing a lot for data structures, and the concepts are similar."
   ]
  },
  {
   "cell_type": "code",
   "execution_count": null,
   "metadata": {},
   "outputs": [],
   "source": [
    "print(my_string[0])\n",
    "print(my_string[-1])\n",
    "print(my_string[1:3])\n",
    "print(my_string[2:])"
   ]
  },
  {
   "attachments": {},
   "cell_type": "markdown",
   "metadata": {},
   "source": [
    "### 2) Control statements: for loops; while loops; and if, elif, else\n",
    "\n",
    "This section introduces some basic control statements. Normal code reads line-by-line, top-to-bottom, but control statments allow you to repeat certain bits of code for a set number of iterations (for loops), or until a specific condition is met (while loops). They can also \"select\" for certain conditions and only run specific lines of code when those \"statements\" are met. These are called \"selection statements\" and use an if, elif, and else syntax.\n",
    "\n",
    "Let's start with the for loop. The for loop syntax looks like this:\n",
    "\n",
    "for <_iterator_> in range(_length of iteration_):\n",
    "\n",
    "        <_do some stuff_>\n",
    "\n",
    "Notice that for loops use a few predetermined names \"for\", \"in\", and \"range\". These combine to tell the interpret \"iterate over the code below for a certain number of times and stop when you get to the end of a given range\". A colon signifies the start of the loop, and the body of the loop (the bits of code to be iterated over) is idented from the word \"for\". The code below performs a simple for loop that will print out each instance of the iterator. Notice that the numbering starts at 0 (zero indexing) and stops at one value less than the number in range. You could also think about this as \"the for loop interated 5 times (the value in range), but it started at 0\"."
   ]
  },
  {
   "cell_type": "code",
   "execution_count": null,
   "metadata": {},
   "outputs": [],
   "source": [
    "for i in range(5):\n",
    "    print(i)"
   ]
  },
  {
   "attachments": {},
   "cell_type": "markdown",
   "metadata": {},
   "source": [
    "For loops can be used in a variety of ways, and we'll get some exposure to this throughout the semester, but one specific way bears mentioning now. You can modify the start, as well as the counting mechanism (count by 5s, count by 2s) in the range() function. An example is below, which tells the iterator to start counting at 1 (not 0), go to 100 (but don't get all the way to it), counting by 5s: "
   ]
  },
  {
   "cell_type": "code",
   "execution_count": null,
   "metadata": {},
   "outputs": [],
   "source": [
    "for i in range(1,100,5):\n",
    "    print(i)"
   ]
  },
  {
   "attachments": {},
   "cell_type": "markdown",
   "metadata": {},
   "source": [
    "Another type of loop or iterator is the while loop. Here, the loop doesn't iterate for a set number of times, but rather until a particular condition is met. In order to talk about while loops (and if/elif/else statments) we need to introduce coniditional operators and statements. In programming, conditions are determined with a special primitive type, the Boolean named after George Boole: https://en.wikipedia.org/wiki/George_Boole. Boolean types can return only two values, \"True\" and \"False\", and they are determined by comparing values or variables to one another with a conditional operator. Some basic ones are:\n",
    "\n",
    "\">\" for greater than\n",
    "\n",
    "\">=\" for greater than or equal to\n",
    "\n",
    "\"<\" for less than\n",
    "\n",
    "\"<=\" for less than or equal to \n",
    "\n",
    "\"==\" for equal to\n",
    "\n",
    "Let's try a few of these out below (predict whether you'll see a true of false before running the cell):"
   ]
  },
  {
   "cell_type": "code",
   "execution_count": null,
   "metadata": {},
   "outputs": [],
   "source": [
    "print(5<6)\n",
    "print(5>6)\n",
    "print(4==2)\n",
    "print(4==4)\n",
    "print(my_variable==6)\n",
    "print(my_other_variable>=10)"
   ]
  },
  {
   "attachments": {},
   "cell_type": "markdown",
   "metadata": {},
   "source": [
    "Things can get a little bit tricker when we use some additional operater such as \"and\" and \"or\". For \"and\", this statement will return true __only if__ both conditionals are true (\"this is true AND that is true\"). For \"or\", this statement will return true if __one or the other__ conditionals is true. Predict some outcomes below. The one at the end is purposely tricky... booleans work just like the order of operations with parentheses... break it down step-by-step:"
   ]
  },
  {
   "cell_type": "code",
   "execution_count": null,
   "metadata": {},
   "outputs": [],
   "source": [
    "my_boolean = 6 > 5 and 5 < 7\n",
    "print(my_boolean)\n",
    "\n",
    "my_second_boolean = 5 > 6 and 5 < 7\n",
    "print(my_second_boolean)\n",
    "\n",
    "my_third_boolean = 5 > 6 or 5 < 7\n",
    "print(my_third_boolean)\n",
    "\n",
    "my_fourth_boolean = ((5 > 6 or 5 < 7) and 10 >= 9) or 10 < 5\n",
    "print(my_fourth_boolean)"
   ]
  },
  {
   "attachments": {},
   "cell_type": "markdown",
   "metadata": {},
   "source": [
    "Now we're ready to take a look at the while loop. The basic structure (in three parts) is as follows:\n",
    "\n",
    "<_initial value_> \n",
    "\n",
    "while <_condition_>:\n",
    "\n",
    "        <_do stuff_>\n",
    "        \n",
    "        <_update initial value until condition becomes false_>\n",
    "\n",
    "While loops always initiate with some condition that is true. They then loop through a set of code __while__ that condition __remains true__. There has to be some way of updating the condition within the loop so that it eventually turns false, otherwise you get an infinite loop that is only escable by hard crashing the interpreter (in this case, force quitting Jupyter Notebook). Notice that the syntax somewhat resembles a for loop in that a colon tells the interpreter where to enter the loop, and the indentation tells the interpreter what to do inside the loop. Here is an example of a while loop:"
   ]
  },
  {
   "cell_type": "code",
   "execution_count": null,
   "metadata": {},
   "outputs": [],
   "source": [
    "sum = 1\n",
    "\n",
    "while sum<100:\n",
    "    sum = sum + 5\n",
    "    print(sum)"
   ]
  },
  {
   "attachments": {},
   "cell_type": "markdown",
   "metadata": {},
   "source": [
    "Notice that the code above does _almost_ the same thing as our for loop example. Can you explain why there's a slight difference? This example demonstrates that you can mostly do the same things with a while loop that you can in a for loop (as with everything in programming, there are usually multiple ways to arrive at the same solution). Where while loops become extremely useful is when you __do not know exactly how many iterations you need to perform to do a task__. Say you wanted to search a long text file (a novel) for every instance of a particular word, but you don't really know how many words are in the file (nor do you care to count them). A while loop that operates until you get to the end of the file would be a better bet in this case then trying to write your search using a for loop.\n",
    "\n",
    "Our last control statement encompasses a set of selection statements: if, elif (read as \"else if\"), and else. The structure looks like this:\n",
    "\n",
    "if <_condition is true__>:\n",
    "\n",
    "        <do this>\n",
    "\n",
    "elif <_this condition is true__>:\n",
    "\n",
    "        <do that>\n",
    "\n",
    "else:\n",
    "\n",
    "        <do this as default (i.e. no other conditions are true)>\n",
    "\n",
    "These statements can be used somewhat interchangeably. For example you can have just an if statement, an if and else statement, an if and elif statement, or an if and elif and else statment. You just have to start with if. Try this loop out for yourself by changing the number on the conditional variable to execute different selection statements:"
   ]
  },
  {
   "cell_type": "code",
   "execution_count": null,
   "metadata": {},
   "outputs": [],
   "source": [
    "conditional = 10\n",
    "\n",
    "if conditional < 10:\n",
    "    print(\"I'm in the if statement\")\n",
    "elif conditional > 10:\n",
    "    print(\"Actually, I'm in the elif statement\")\n",
    "else:\n",
    "    print(\"Never mind, I'm the default else statment\")"
   ]
  },
  {
   "attachments": {},
   "cell_type": "markdown",
   "metadata": {},
   "source": [
    "### 3) Simple user-defined functions\n",
    "\n",
    "Let's say we want to do a set task, like turn a percentage into a fraction. There are a few ways we could do this. We could just divide all of our percentages by 100, but that might get kind of tedious. A more \"Pythonic\" way to approach this would be to write our own simple function that does this for us. Here is that simple function (__be sure to run the cell!__):"
   ]
  },
  {
   "cell_type": "code",
   "execution_count": null,
   "metadata": {},
   "outputs": [],
   "source": [
    "def percent_to_frac(input):\n",
    "    output = input/100\n",
    "    return output"
   ]
  },
  {
   "attachments": {},
   "cell_type": "markdown",
   "metadata": {},
   "source": [
    "The \"def\" signifies to the interpreter that we are \"defining\" a function called \"percent_to_frac\". We are passing to this fraction some \"input\" which is maniuplated within the function to create \"output\" which then gets \"returned\" to the user. Notice that nothing appears to have happend when you ran the cell. But! You can now use that function in any subsequent cell. Here's an example of that:"
   ]
  },
  {
   "cell_type": "code",
   "execution_count": null,
   "metadata": {},
   "outputs": [],
   "source": [
    "percent_1 = 80\n",
    "fraction_1 = percent_to_frac(percent_1)\n",
    "\n",
    "print(fraction_1)"
   ]
  },
  {
   "attachments": {},
   "cell_type": "markdown",
   "metadata": {},
   "source": [
    "You might question whether we actually want to make a function out of this really simple mathematical algorithm. And the short answer is, probably not. But we will see more complex algorithms (a recipe for doing some math) throughout this semester where creating a specific function is going to make _a lot_ of sense. \n",
    "\n",
    "### 4) Built-in data structures: lists and dictionaries\n",
    "\n",
    "Python has a few data structures (literally a computer construct for storing data in some user accesible fashion) that are \"built-in\" to base Python. We'll use a few more later in the semester with the NumPy and Pandas libraries, but let's for now highlight two really important built-ins that we want to become familiar with. These are lists and dictionaries. A list is just as it sounds, a list of (variable) length that stores data (can be of multiple types) in a place in RAM that points to a name you designate. For example, I've implemented a list below that stores an int, a float, a boolean, a string, and even another list (of ints)!:"
   ]
  },
  {
   "cell_type": "code",
   "execution_count": null,
   "metadata": {},
   "outputs": [],
   "source": [
    "int_list = [0,1,2,3]\n",
    "my_list = [1, 3.1415, True, 'Hello world', int_list]\n",
    "\n",
    "print(my_list)"
   ]
  },
  {
   "attachments": {},
   "cell_type": "markdown",
   "metadata": {},
   "source": [
    "To create the list, I used square brackets to encompass the values, and separated each one by a comma (I've also illustrated that spaces are optional between commas). I can also create an empty list and append to the end of the list using the append() function. The example below seems more tedious than what I just did above, but there are times (such as in a for loop) where you might want to add data to the list instead of predefining what is in it:"
   ]
  },
  {
   "cell_type": "code",
   "execution_count": null,
   "metadata": {},
   "outputs": [],
   "source": [
    "my_second_list = []\n",
    "my_second_list.append(1)\n",
    "my_second_list.append(3.1415)\n",
    "my_second_list.append(True)\n",
    "my_second_list.append('Hello world')\n",
    "my_second_list.append(int_list)\n",
    "\n",
    "print(my_second_list)"
   ]
  },
  {
   "attachments": {},
   "cell_type": "markdown",
   "metadata": {},
   "source": [
    "Lists can also be indexed using the zero indexing scheme where index \"0\" grabs the value in the first spot in the list, \"1\" grabs the second, etc. Here are a couple examples of that (try to predict the output before you run the cell):"
   ]
  },
  {
   "cell_type": "code",
   "execution_count": null,
   "metadata": {},
   "outputs": [],
   "source": [
    "print(my_list[0])\n",
    "print(my_list[2])\n",
    "print(my_list[3])"
   ]
  },
  {
   "attachments": {},
   "cell_type": "markdown",
   "metadata": {},
   "source": [
    "And below is the output created with a for loop. Notice how I've used the function len() to return the length of the list, which is then reference by the function range() to figure out how many times to iterate over the list:"
   ]
  },
  {
   "cell_type": "code",
   "execution_count": null,
   "metadata": {},
   "outputs": [],
   "source": [
    "for i in range(len(my_list)):\n",
    "    print(my_list[i])"
   ]
  },
  {
   "attachments": {},
   "cell_type": "markdown",
   "metadata": {},
   "source": [
    "Python can do one more cool thing when it comes to iterating over lists; you can designate the iterator to return each index of the list. That is, you can simply use this syntax without the need for range() or len():"
   ]
  },
  {
   "cell_type": "code",
   "execution_count": null,
   "metadata": {},
   "outputs": [],
   "source": [
    "for i in my_list:\n",
    "    print(i)"
   ]
  },
  {
   "attachments": {},
   "cell_type": "markdown",
   "metadata": {},
   "source": [
    "Okay, whew, last concept: dictionaries! Dictionaries are way cool and probably the first time in which you'll be like \"oh yeah, I see why Python is real sweet for data science\". A dictionary stores data that is accessible through the use of indexing, but whereas lists store data with a linear index (at position 0, at position 1, etc.), dictionaries store data that is accessbile by calling a key. Look at the example below. I've created a dictionary called Ages using curly brackets ({}) and strings that correspond to different geologic periods, and numbers that correspond to the start of those periods, separated by colons. Each key:value pair is then separated by a comma:"
   ]
  },
  {
   "cell_type": "code",
   "execution_count": null,
   "metadata": {},
   "outputs": [],
   "source": [
    "Ages = {'Cretaceous':145.0, 'Neogene':23.03, 'Cryogenian':716.0, 'Triassic':252.17}\n",
    "print(Ages)"
   ]
  },
  {
   "attachments": {},
   "cell_type": "markdown",
   "metadata": {},
   "source": [
    "The stored values need not be floats; they can really be any data type I want, even other data structures like lists and dictionaries. The most important concept for us now is that I can reference a period's age by simply using the key. I do not need to know which linear position it sits in (like with a list). In fact, the exact order of our dictionary doesn't really matter for this particular purpose. An example is below, note that to reference a value in a dictionary, I use square brackets:"
   ]
  },
  {
   "cell_type": "code",
   "execution_count": null,
   "metadata": {},
   "outputs": [],
   "source": [
    "Ages['Neogene']"
   ]
  },
  {
   "attachments": {},
   "cell_type": "markdown",
   "metadata": {},
   "source": [
    "One final note on dictionaries. Let's say that we replace the starting age for \"Cretaceous\" with a number of zircon U-Pb ages that we collected, indexed by sample name, and which all have an age that place them in the Cretaceous. We'll first make a dictionary with U-Pb ages, with the sample names as keys, then we'll stick it in (replace the value that is there currently) our dictionary in the 'Cretaceous' key:"
   ]
  },
  {
   "cell_type": "code",
   "execution_count": null,
   "metadata": {},
   "outputs": [],
   "source": [
    "UPb_ages = {'WRG1':138.6, 'WRG2':122.5, 'RCG_01':133.6, 'LMG_22':66.9}\n",
    "\n",
    "Ages['Cretaceous'] = UPb_ages\n",
    "\n",
    "print(Ages)"
   ]
  },
  {
   "attachments": {},
   "cell_type": "markdown",
   "metadata": {},
   "source": [
    "Okay, so the last cool thing here is that I can actually get back my specific value for sample WRG2 by using a double square brackets approach:"
   ]
  },
  {
   "cell_type": "code",
   "execution_count": null,
   "metadata": {},
   "outputs": [],
   "source": [
    "Ages['Cretaceous']['WRG2']"
   ]
  },
  {
   "attachments": {},
   "cell_type": "markdown",
   "metadata": {},
   "source": [
    "That's it for now! We'll continue to ride the snake in our next problem set."
   ]
  }
 ],
 "metadata": {
  "kernelspec": {
   "display_name": "py310",
   "language": "python",
   "name": "python3"
  },
  "language_info": {
   "codemirror_mode": {
    "name": "ipython",
    "version": 3
   },
   "file_extension": ".py",
   "mimetype": "text/x-python",
   "name": "python",
   "nbconvert_exporter": "python",
   "pygments_lexer": "ipython3",
   "version": "3.10.4"
  },
  "orig_nbformat": 4,
  "vscode": {
   "interpreter": {
    "hash": "1f0c7602c82e39efa19a01e5e068584db7a6d17aff8711ab06660aac81377393"
   }
  }
 },
 "nbformat": 4,
 "nbformat_minor": 2
}
